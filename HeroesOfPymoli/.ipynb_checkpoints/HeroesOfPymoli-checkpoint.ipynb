{
 "cells": [
  {
   "cell_type": "code",
   "execution_count": 1,
   "id": "27636623-7a89-4e96-affb-e03cb052cd7d",
   "metadata": {},
   "outputs": [],
   "source": [
    "import pandas as pd\n",
    "import os"
   ]
  },
  {
   "cell_type": "code",
   "execution_count": 2,
   "id": "3fd99f5f-fa30-4049-8690-92d1e6fc0877",
   "metadata": {},
   "outputs": [],
   "source": [
    "file = os.path.join(\"..\",\"Resources\",\"purchase_data.csv\")"
   ]
  },
  {
   "cell_type": "code",
   "execution_count": 3,
   "id": "c8edae89-6d92-43a0-a5b7-69c2bb81505a",
   "metadata": {},
   "outputs": [
    {
     "data": {
      "text/html": [
       "<div>\n",
       "<style scoped>\n",
       "    .dataframe tbody tr th:only-of-type {\n",
       "        vertical-align: middle;\n",
       "    }\n",
       "\n",
       "    .dataframe tbody tr th {\n",
       "        vertical-align: top;\n",
       "    }\n",
       "\n",
       "    .dataframe thead th {\n",
       "        text-align: right;\n",
       "    }\n",
       "</style>\n",
       "<table border=\"1\" class=\"dataframe\">\n",
       "  <thead>\n",
       "    <tr style=\"text-align: right;\">\n",
       "      <th></th>\n",
       "      <th>Purchase ID</th>\n",
       "      <th>SN</th>\n",
       "      <th>Age</th>\n",
       "      <th>Gender</th>\n",
       "      <th>Item ID</th>\n",
       "      <th>Item Name</th>\n",
       "      <th>Price</th>\n",
       "    </tr>\n",
       "  </thead>\n",
       "  <tbody>\n",
       "    <tr>\n",
       "      <th>0</th>\n",
       "      <td>0</td>\n",
       "      <td>Lisim78</td>\n",
       "      <td>20</td>\n",
       "      <td>Male</td>\n",
       "      <td>108</td>\n",
       "      <td>Extraction, Quickblade Of Trembling Hands</td>\n",
       "      <td>3.53</td>\n",
       "    </tr>\n",
       "    <tr>\n",
       "      <th>1</th>\n",
       "      <td>1</td>\n",
       "      <td>Lisovynya38</td>\n",
       "      <td>40</td>\n",
       "      <td>Male</td>\n",
       "      <td>143</td>\n",
       "      <td>Frenzied Scimitar</td>\n",
       "      <td>1.56</td>\n",
       "    </tr>\n",
       "    <tr>\n",
       "      <th>2</th>\n",
       "      <td>2</td>\n",
       "      <td>Ithergue48</td>\n",
       "      <td>24</td>\n",
       "      <td>Male</td>\n",
       "      <td>92</td>\n",
       "      <td>Final Critic</td>\n",
       "      <td>4.88</td>\n",
       "    </tr>\n",
       "    <tr>\n",
       "      <th>3</th>\n",
       "      <td>3</td>\n",
       "      <td>Chamassasya86</td>\n",
       "      <td>24</td>\n",
       "      <td>Male</td>\n",
       "      <td>100</td>\n",
       "      <td>Blindscythe</td>\n",
       "      <td>3.27</td>\n",
       "    </tr>\n",
       "    <tr>\n",
       "      <th>4</th>\n",
       "      <td>4</td>\n",
       "      <td>Iskosia90</td>\n",
       "      <td>23</td>\n",
       "      <td>Male</td>\n",
       "      <td>131</td>\n",
       "      <td>Fury</td>\n",
       "      <td>1.44</td>\n",
       "    </tr>\n",
       "  </tbody>\n",
       "</table>\n",
       "</div>"
      ],
      "text/plain": [
       "   Purchase ID             SN  Age Gender  Item ID  \\\n",
       "0            0        Lisim78   20   Male      108   \n",
       "1            1    Lisovynya38   40   Male      143   \n",
       "2            2     Ithergue48   24   Male       92   \n",
       "3            3  Chamassasya86   24   Male      100   \n",
       "4            4      Iskosia90   23   Male      131   \n",
       "\n",
       "                                   Item Name  Price  \n",
       "0  Extraction, Quickblade Of Trembling Hands   3.53  \n",
       "1                          Frenzied Scimitar   1.56  \n",
       "2                               Final Critic   4.88  \n",
       "3                                Blindscythe   3.27  \n",
       "4                                       Fury   1.44  "
      ]
     },
     "execution_count": 3,
     "metadata": {},
     "output_type": "execute_result"
    }
   ],
   "source": [
    "df = pd.read_csv(file)\n",
    "df.head(5)"
   ]
  },
  {
   "cell_type": "code",
   "execution_count": 4,
   "id": "b2750c40-898e-4e74-bf94-d025046e808d",
   "metadata": {},
   "outputs": [
    {
     "data": {
      "text/plain": [
       "576"
      ]
     },
     "execution_count": 4,
     "metadata": {},
     "output_type": "execute_result"
    }
   ],
   "source": [
    "# Returns number of SN/user name\n",
    "total_players = len(df[\"SN\"].unique())\n",
    "total_players"
   ]
  },
  {
   "cell_type": "code",
   "execution_count": 43,
   "id": "3094915e-81f4-4c40-90a1-497c97a75420",
   "metadata": {},
   "outputs": [],
   "source": [
    "# Creates a list of all the unique items and then a count of all the items\n",
    "unique_items = df[\"Item Name\"].unique()\n",
    "total_items = len(unique_items)"
   ]
  },
  {
   "cell_type": "code",
   "execution_count": 44,
   "id": "ba060565-60a7-41bd-8f0f-c98c4f5e1719",
   "metadata": {},
   "outputs": [],
   "source": [
    "# Calculates the mean of the Price column\n",
    "average_purchase = df[\"Price\"].mean()\n",
    "# Calculates total revenue by adding the column\n",
    "total_revenue = df[\"Price\"].sum()\n",
    "# Calculates total purchases\n",
    "total_purchases = df[\"SN\"].count()"
   ]
  },
  {
   "cell_type": "code",
   "execution_count": 45,
   "id": "0ee25fef-abe0-4a98-b6c2-cdb61a9fab60",
   "metadata": {},
   "outputs": [
    {
     "data": {
      "text/html": [
       "<div>\n",
       "<style scoped>\n",
       "    .dataframe tbody tr th:only-of-type {\n",
       "        vertical-align: middle;\n",
       "    }\n",
       "\n",
       "    .dataframe tbody tr th {\n",
       "        vertical-align: top;\n",
       "    }\n",
       "\n",
       "    .dataframe thead th {\n",
       "        text-align: right;\n",
       "    }\n",
       "</style>\n",
       "<table border=\"1\" class=\"dataframe\">\n",
       "  <thead>\n",
       "    <tr style=\"text-align: right;\">\n",
       "      <th></th>\n",
       "      <th>Number of Unique Items</th>\n",
       "      <th>Average Price</th>\n",
       "      <th>Total Purchases</th>\n",
       "      <th>Total Revenue</th>\n",
       "    </tr>\n",
       "  </thead>\n",
       "  <tbody>\n",
       "    <tr>\n",
       "      <th>0</th>\n",
       "      <td>179</td>\n",
       "      <td>3.050987</td>\n",
       "      <td>780</td>\n",
       "      <td>2379.77</td>\n",
       "    </tr>\n",
       "  </tbody>\n",
       "</table>\n",
       "</div>"
      ],
      "text/plain": [
       "   Number of Unique Items  Average Price  Total Purchases  Total Revenue\n",
       "0                     179       3.050987              780        2379.77"
      ]
     },
     "execution_count": 45,
     "metadata": {},
     "output_type": "execute_result"
    }
   ],
   "source": [
    "purchasing_analysis_df = pd.DataFrame([{\n",
    "    \"Number of Unique Items\": total_items,\n",
    "    \"Average Price\": average_purchase,\n",
    "    \"Total Purchases\": total_purchases,\n",
    "    \"Total Revenue\": total_revenue\n",
    "}])\n",
    "purchasing_analysis_df"
   ]
  },
  {
   "cell_type": "code",
   "execution_count": 46,
   "id": "ee61a140-0bef-45ca-a7f6-f867a4a96e31",
   "metadata": {},
   "outputs": [],
   "source": [
    "# Creates a data frame to analyze demographic information\n",
    "demographics_df = df[[\"SN\",\"Gender\"]]"
   ]
  },
  {
   "cell_type": "code",
   "execution_count": 47,
   "id": "40dde8b8-e621-4f0e-84d5-fa3feff7db3a",
   "metadata": {},
   "outputs": [],
   "source": [
    "genders = [\"Male\", \"Female\", \"Other / Non-Disclosed\"]"
   ]
  },
  {
   "cell_type": "code",
   "execution_count": 48,
   "id": "bff6c886-baf1-46bb-985b-e410664c0edb",
   "metadata": {},
   "outputs": [],
   "source": [
    "# Removes players who made duplicate purchases to accurately estimate demographic breakup of players\n",
    "player_df = demographics_df.drop_duplicates()\n",
    "# Creates variables for number of players by gender\n",
    "unique_players_by_gender = player_df[\"Gender\"].value_counts().to_list()"
   ]
  },
  {
   "cell_type": "code",
   "execution_count": 49,
   "id": "3a4fc5f4-be53-46ef-81eb-1cb1e3a5c979",
   "metadata": {},
   "outputs": [
    {
     "data": {
      "text/plain": [
       "[0.84, 0.14, 0.02]"
      ]
     },
     "execution_count": 49,
     "metadata": {},
     "output_type": "execute_result"
    }
   ],
   "source": [
    "# Stores demographic breakup of players\n",
    "percent_by_gender = [round(x / total_players, 2) for x in unique_players_by_gender]\n",
    "percent_by_gender"
   ]
  },
  {
   "cell_type": "code",
   "execution_count": 51,
   "id": "2ae8d58b-c0e7-4a90-84a4-9e09994ffe95",
   "metadata": {},
   "outputs": [
    {
     "data": {
      "text/html": [
       "<div>\n",
       "<style scoped>\n",
       "    .dataframe tbody tr th:only-of-type {\n",
       "        vertical-align: middle;\n",
       "    }\n",
       "\n",
       "    .dataframe tbody tr th {\n",
       "        vertical-align: top;\n",
       "    }\n",
       "\n",
       "    .dataframe thead th {\n",
       "        text-align: right;\n",
       "    }\n",
       "</style>\n",
       "<table border=\"1\" class=\"dataframe\">\n",
       "  <thead>\n",
       "    <tr style=\"text-align: right;\">\n",
       "      <th></th>\n",
       "      <th>Gender</th>\n",
       "      <th>Number of Players</th>\n",
       "      <th>Percentage of Players</th>\n",
       "    </tr>\n",
       "  </thead>\n",
       "  <tbody>\n",
       "    <tr>\n",
       "      <th>0</th>\n",
       "      <td>Male</td>\n",
       "      <td>484</td>\n",
       "      <td>0.84</td>\n",
       "    </tr>\n",
       "    <tr>\n",
       "      <th>1</th>\n",
       "      <td>Female</td>\n",
       "      <td>81</td>\n",
       "      <td>0.14</td>\n",
       "    </tr>\n",
       "    <tr>\n",
       "      <th>2</th>\n",
       "      <td>Other / Non-Disclosed</td>\n",
       "      <td>11</td>\n",
       "      <td>0.02</td>\n",
       "    </tr>\n",
       "  </tbody>\n",
       "</table>\n",
       "</div>"
      ],
      "text/plain": [
       "                  Gender  Number of Players  Percentage of Players\n",
       "0                   Male                484                   0.84\n",
       "1                 Female                 81                   0.14\n",
       "2  Other / Non-Disclosed                 11                   0.02"
      ]
     },
     "execution_count": 51,
     "metadata": {},
     "output_type": "execute_result"
    }
   ],
   "source": [
    "gender_demographics_df = pd.DataFrame({\n",
    "    \"Gender\": genders,\n",
    "    \"Number of Players\": unique_players_by_gender,\n",
    "    \"Percentage of Players\": percent_by_gender\n",
    "})\n",
    "gender_demographics_df"
   ]
  },
  {
   "cell_type": "code",
   "execution_count": 52,
   "id": "49b1c04e-47b9-4901-8a27-48a2a0da99b2",
   "metadata": {},
   "outputs": [],
   "source": [
    "# Creates df for purchasing analysis by gender\n",
    "purchases_df = df[[\"Age\",\"Gender\",\"Item Name\",\"Price\"]]"
   ]
  },
  {
   "cell_type": "code",
   "execution_count": 53,
   "id": "4e6ca83d-98e8-48da-9a79-5bafdf8acc26",
   "metadata": {},
   "outputs": [
    {
     "data": {
      "text/plain": [
       "[652, 113, 15]"
      ]
     },
     "execution_count": 53,
     "metadata": {},
     "output_type": "execute_result"
    }
   ],
   "source": [
    "purchases_by_gender = purchases_df[\"Gender\"].value_counts().to_list()\n",
    "purchases_by_gender"
   ]
  },
  {
   "cell_type": "code",
   "execution_count": 54,
   "id": "4901db9b-00d1-461f-85ee-2264134fa3a6",
   "metadata": {},
   "outputs": [
    {
     "data": {
      "text/plain": [
       "[3.02, 3.2, 3.35]"
      ]
     },
     "execution_count": 54,
     "metadata": {},
     "output_type": "execute_result"
    }
   ],
   "source": [
    "# Stores average purchase by gender\n",
    "average_male_purchases = round(purchases_df.loc[purchases_df[\"Gender\"] == \"Male\",\"Price\"].mean(), 2)\n",
    "average_female_purchases = round(purchases_df.loc[purchases_df[\"Gender\"] == \"Female\",\"Price\"].mean(), 2)\n",
    "average_other_purchases = round(purchases_df.loc[purchases_df[\"Gender\"] == \"Other / Non-Disclosed\",\"Price\"].mean(), 2)\n",
    "average_purchases_by_gender = [average_male_purchases, average_female_purchases, average_other_purchases]\n",
    "average_purchases_by_gender"
   ]
  },
  {
   "cell_type": "code",
   "execution_count": 55,
   "id": "7d763972-3033-4798-8f46-ac5a0684f330",
   "metadata": {},
   "outputs": [
    {
     "data": {
      "text/plain": [
       "[1967.64, 361.94, 50.19]"
      ]
     },
     "execution_count": 55,
     "metadata": {},
     "output_type": "execute_result"
    }
   ],
   "source": [
    "# Stores value for total purchase value by gender\n",
    "total_male_purchases = round(purchases_df.loc[purchases_df[\"Gender\"] == \"Male\",\"Price\"].sum(), 2)\n",
    "total_female_purchases = round(purchases_df.loc[purchases_df[\"Gender\"] == \"Female\",\"Price\"].sum(), 2)\n",
    "total_other_purchases = round(purchases_df.loc[purchases_df[\"Gender\"] == \"Other / Non-Disclosed\",\"Price\"].sum(), 2)\n",
    "total_purchases_by_gender = [total_male_purchases, total_female_purchases, total_other_purchases]\n",
    "total_purchases_by_gender"
   ]
  },
  {
   "cell_type": "code",
   "execution_count": 56,
   "id": "2e1da3fa-0e92-4a68-98fd-a554f5854e09",
   "metadata": {},
   "outputs": [],
   "source": [
    "# Creates a group by for average purchase per person by gender\n",
    "purchases_by_person = df.groupby([\"SN\",\"Gender\"],as_index=False)"
   ]
  },
  {
   "cell_type": "code",
   "execution_count": 57,
   "id": "fa4b9cee-1e4b-4db2-8583-c283e8f3b760",
   "metadata": {},
   "outputs": [
    {
     "data": {
      "text/html": [
       "<div>\n",
       "<style scoped>\n",
       "    .dataframe tbody tr th:only-of-type {\n",
       "        vertical-align: middle;\n",
       "    }\n",
       "\n",
       "    .dataframe tbody tr th {\n",
       "        vertical-align: top;\n",
       "    }\n",
       "\n",
       "    .dataframe thead th {\n",
       "        text-align: right;\n",
       "    }\n",
       "</style>\n",
       "<table border=\"1\" class=\"dataframe\">\n",
       "  <thead>\n",
       "    <tr style=\"text-align: right;\">\n",
       "      <th></th>\n",
       "      <th>SN</th>\n",
       "      <th>Gender</th>\n",
       "      <th>Price</th>\n",
       "    </tr>\n",
       "  </thead>\n",
       "  <tbody>\n",
       "    <tr>\n",
       "      <th>0</th>\n",
       "      <td>Adairialis76</td>\n",
       "      <td>Male</td>\n",
       "      <td>2.28</td>\n",
       "    </tr>\n",
       "    <tr>\n",
       "      <th>1</th>\n",
       "      <td>Adastirin33</td>\n",
       "      <td>Female</td>\n",
       "      <td>4.48</td>\n",
       "    </tr>\n",
       "    <tr>\n",
       "      <th>2</th>\n",
       "      <td>Aeda94</td>\n",
       "      <td>Male</td>\n",
       "      <td>4.91</td>\n",
       "    </tr>\n",
       "    <tr>\n",
       "      <th>3</th>\n",
       "      <td>Aela59</td>\n",
       "      <td>Male</td>\n",
       "      <td>4.32</td>\n",
       "    </tr>\n",
       "    <tr>\n",
       "      <th>4</th>\n",
       "      <td>Aelaria33</td>\n",
       "      <td>Male</td>\n",
       "      <td>1.79</td>\n",
       "    </tr>\n",
       "    <tr>\n",
       "      <th>...</th>\n",
       "      <td>...</td>\n",
       "      <td>...</td>\n",
       "      <td>...</td>\n",
       "    </tr>\n",
       "    <tr>\n",
       "      <th>571</th>\n",
       "      <td>Yathecal82</td>\n",
       "      <td>Female</td>\n",
       "      <td>6.22</td>\n",
       "    </tr>\n",
       "    <tr>\n",
       "      <th>572</th>\n",
       "      <td>Yathedeu43</td>\n",
       "      <td>Male</td>\n",
       "      <td>6.02</td>\n",
       "    </tr>\n",
       "    <tr>\n",
       "      <th>573</th>\n",
       "      <td>Yoishirrala98</td>\n",
       "      <td>Female</td>\n",
       "      <td>4.58</td>\n",
       "    </tr>\n",
       "    <tr>\n",
       "      <th>574</th>\n",
       "      <td>Zhisrisu83</td>\n",
       "      <td>Male</td>\n",
       "      <td>7.89</td>\n",
       "    </tr>\n",
       "    <tr>\n",
       "      <th>575</th>\n",
       "      <td>Zontibe81</td>\n",
       "      <td>Male</td>\n",
       "      <td>8.03</td>\n",
       "    </tr>\n",
       "  </tbody>\n",
       "</table>\n",
       "<p>576 rows × 3 columns</p>\n",
       "</div>"
      ],
      "text/plain": [
       "                SN  Gender  Price\n",
       "0     Adairialis76    Male   2.28\n",
       "1      Adastirin33  Female   4.48\n",
       "2           Aeda94    Male   4.91\n",
       "3           Aela59    Male   4.32\n",
       "4        Aelaria33    Male   1.79\n",
       "..             ...     ...    ...\n",
       "571     Yathecal82  Female   6.22\n",
       "572     Yathedeu43    Male   6.02\n",
       "573  Yoishirrala98  Female   4.58\n",
       "574     Zhisrisu83    Male   7.89\n",
       "575      Zontibe81    Male   8.03\n",
       "\n",
       "[576 rows x 3 columns]"
      ]
     },
     "execution_count": 57,
     "metadata": {},
     "output_type": "execute_result"
    }
   ],
   "source": [
    "# Creates a dataframe with the group by object to show the total spend by each screen name\n",
    "individual_player_spend = purchases_by_person[[\"Price\"]].sum()\n",
    "individual_player_spend"
   ]
  },
  {
   "cell_type": "code",
   "execution_count": 58,
   "id": "05a1c7cb-03c9-4889-9d1c-cc3b4eba02fe",
   "metadata": {},
   "outputs": [],
   "source": [
    "# Stores average total per person purchase by gender\n",
    "average_male_spend = round(individual_player_spend.loc[individual_player_spend[\"Gender\"] == \"Male\",\"Price\"].mean(), 2)\n",
    "average_female_spend = round(individual_player_spend.loc[individual_player_spend[\"Gender\"] == \"Female\",\"Price\"].mean(), 2)\n",
    "average_other_spend = round(individual_player_spend.loc[individual_player_spend[\"Gender\"] == \"Other / Non-Disclosed\",\"Price\"].mean(), 2)\n",
    "average_individual_spend = [average_male_spend, average_female_spend, average_other_spend]"
   ]
  },
  {
   "cell_type": "code",
   "execution_count": 59,
   "id": "a2ed6152-4916-474a-880b-caa1ad68ff5b",
   "metadata": {},
   "outputs": [
    {
     "data": {
      "text/html": [
       "<div>\n",
       "<style scoped>\n",
       "    .dataframe tbody tr th:only-of-type {\n",
       "        vertical-align: middle;\n",
       "    }\n",
       "\n",
       "    .dataframe tbody tr th {\n",
       "        vertical-align: top;\n",
       "    }\n",
       "\n",
       "    .dataframe thead th {\n",
       "        text-align: right;\n",
       "    }\n",
       "</style>\n",
       "<table border=\"1\" class=\"dataframe\">\n",
       "  <thead>\n",
       "    <tr style=\"text-align: right;\">\n",
       "      <th></th>\n",
       "      <th>Gender</th>\n",
       "      <th>Average Purchase Value</th>\n",
       "      <th>Total Purchase Value</th>\n",
       "      <th>Average Total Purchase Per Person</th>\n",
       "    </tr>\n",
       "  </thead>\n",
       "  <tbody>\n",
       "    <tr>\n",
       "      <th>0</th>\n",
       "      <td>Male</td>\n",
       "      <td>3.02</td>\n",
       "      <td>1967.64</td>\n",
       "      <td>4.07</td>\n",
       "    </tr>\n",
       "    <tr>\n",
       "      <th>1</th>\n",
       "      <td>Female</td>\n",
       "      <td>3.20</td>\n",
       "      <td>361.94</td>\n",
       "      <td>4.47</td>\n",
       "    </tr>\n",
       "    <tr>\n",
       "      <th>2</th>\n",
       "      <td>Other / Non-Disclosed</td>\n",
       "      <td>3.35</td>\n",
       "      <td>50.19</td>\n",
       "      <td>4.56</td>\n",
       "    </tr>\n",
       "  </tbody>\n",
       "</table>\n",
       "</div>"
      ],
      "text/plain": [
       "                  Gender  Average Purchase Value  Total Purchase Value  \\\n",
       "0                   Male                    3.02               1967.64   \n",
       "1                 Female                    3.20                361.94   \n",
       "2  Other / Non-Disclosed                    3.35                 50.19   \n",
       "\n",
       "   Average Total Purchase Per Person  \n",
       "0                               4.07  \n",
       "1                               4.47  \n",
       "2                               4.56  "
      ]
     },
     "execution_count": 59,
     "metadata": {},
     "output_type": "execute_result"
    }
   ],
   "source": [
    "gender_purchases_df = pd.DataFrame({\n",
    "    \"Gender\": genders,\n",
    "    \"Average Purchase Value\": average_purchases_by_gender,\n",
    "    \"Total Purchase Value\": total_purchases_by_gender,\n",
    "    \"Average Total Purchase Per Person\": average_individual_spend\n",
    "})\n",
    "gender_purchases_df"
   ]
  },
  {
   "cell_type": "code",
   "execution_count": 60,
   "id": "04c68ded-01ab-47a0-8238-8063ec188469",
   "metadata": {},
   "outputs": [],
   "source": [
    "# Create the age bins for analysis\n",
    "bins = [0, 9, 14, 19, 24, 29, 34, 39, df[\"Age\"].max()]"
   ]
  },
  {
   "cell_type": "code",
   "execution_count": 61,
   "id": "b974f5a8-b035-4beb-8947-899341ab1558",
   "metadata": {},
   "outputs": [],
   "source": [
    "bin_labels = [\"<10\", \"10-14\", \"15-19\", \"20-24\", \"25-29\", \"30-34\", \"35-39\", \"40+\"]"
   ]
  },
  {
   "cell_type": "code",
   "execution_count": 62,
   "id": "18fea7f7-10c8-4f6b-ad7f-77905365b3fa",
   "metadata": {},
   "outputs": [],
   "source": [
    "# Creates group by object for each age group\n",
    "groups = df.groupby(pd.cut(df[\"Age\"], bins))"
   ]
  },
  {
   "cell_type": "code",
   "execution_count": 63,
   "id": "261f6d86-64c0-434c-92dd-110989f5833e",
   "metadata": {},
   "outputs": [
    {
     "data": {
      "text/plain": [
       "[23, 28, 136, 365, 101, 73, 41, 13]"
      ]
     },
     "execution_count": 63,
     "metadata": {},
     "output_type": "execute_result"
    }
   ],
   "source": [
    "# Purchases by age bracket\n",
    "purchase_count_by_age = round(groups[\"Price\"].count()).to_list()\n",
    "purchase_count_by_age"
   ]
  },
  {
   "cell_type": "code",
   "execution_count": 64,
   "id": "26aaa3bf-3bf0-4369-8e4c-55332c9bea39",
   "metadata": {},
   "outputs": [
    {
     "data": {
      "text/plain": [
       "[3.35, 2.96, 3.04, 3.05, 2.9, 2.93, 3.6, 2.94]"
      ]
     },
     "execution_count": 64,
     "metadata": {},
     "output_type": "execute_result"
    }
   ],
   "source": [
    "# Average purchase by age bracket\n",
    "average_purchase_by_age = round(groups[\"Price\"].mean(), 2).to_list()\n",
    "average_purchase_by_age"
   ]
  },
  {
   "cell_type": "code",
   "execution_count": 65,
   "id": "2e0a88a1-c914-493c-a118-a14a5c3ab7d2",
   "metadata": {},
   "outputs": [
    {
     "data": {
      "text/plain": [
       "[77.13, 82.78, 412.89, 1114.06, 293.0, 214.0, 147.67000000000002, 38.24]"
      ]
     },
     "execution_count": 65,
     "metadata": {},
     "output_type": "execute_result"
    }
   ],
   "source": [
    "# Total purcahse value by age bracket\n",
    "total_purchase_by_age = groups[\"Price\"].sum().to_list()\n",
    "total_purchase_by_age"
   ]
  },
  {
   "cell_type": "code",
   "execution_count": 66,
   "id": "8f5b3f3d-8775-4f9a-b98c-eeb5c4c76cb5",
   "metadata": {},
   "outputs": [
    {
     "data": {
      "text/html": [
       "<div>\n",
       "<style scoped>\n",
       "    .dataframe tbody tr th:only-of-type {\n",
       "        vertical-align: middle;\n",
       "    }\n",
       "\n",
       "    .dataframe tbody tr th {\n",
       "        vertical-align: top;\n",
       "    }\n",
       "\n",
       "    .dataframe thead th {\n",
       "        text-align: right;\n",
       "    }\n",
       "</style>\n",
       "<table border=\"1\" class=\"dataframe\">\n",
       "  <thead>\n",
       "    <tr style=\"text-align: right;\">\n",
       "      <th></th>\n",
       "      <th>SN</th>\n",
       "      <th>Age</th>\n",
       "      <th>Purchase ID</th>\n",
       "      <th>Item ID</th>\n",
       "      <th>Price</th>\n",
       "    </tr>\n",
       "  </thead>\n",
       "  <tbody>\n",
       "    <tr>\n",
       "      <th>0</th>\n",
       "      <td>Adairialis76</td>\n",
       "      <td>16</td>\n",
       "      <td>467</td>\n",
       "      <td>123</td>\n",
       "      <td>2.28</td>\n",
       "    </tr>\n",
       "    <tr>\n",
       "      <th>1</th>\n",
       "      <td>Adastirin33</td>\n",
       "      <td>35</td>\n",
       "      <td>142</td>\n",
       "      <td>175</td>\n",
       "      <td>4.48</td>\n",
       "    </tr>\n",
       "    <tr>\n",
       "      <th>2</th>\n",
       "      <td>Aeda94</td>\n",
       "      <td>17</td>\n",
       "      <td>388</td>\n",
       "      <td>128</td>\n",
       "      <td>4.91</td>\n",
       "    </tr>\n",
       "    <tr>\n",
       "      <th>3</th>\n",
       "      <td>Aela59</td>\n",
       "      <td>21</td>\n",
       "      <td>28</td>\n",
       "      <td>119</td>\n",
       "      <td>4.32</td>\n",
       "    </tr>\n",
       "    <tr>\n",
       "      <th>4</th>\n",
       "      <td>Aelaria33</td>\n",
       "      <td>23</td>\n",
       "      <td>630</td>\n",
       "      <td>171</td>\n",
       "      <td>1.79</td>\n",
       "    </tr>\n",
       "    <tr>\n",
       "      <th>...</th>\n",
       "      <td>...</td>\n",
       "      <td>...</td>\n",
       "      <td>...</td>\n",
       "      <td>...</td>\n",
       "      <td>...</td>\n",
       "    </tr>\n",
       "    <tr>\n",
       "      <th>571</th>\n",
       "      <td>Yathecal82</td>\n",
       "      <td>20</td>\n",
       "      <td>1400</td>\n",
       "      <td>241</td>\n",
       "      <td>6.22</td>\n",
       "    </tr>\n",
       "    <tr>\n",
       "      <th>572</th>\n",
       "      <td>Yathedeu43</td>\n",
       "      <td>22</td>\n",
       "      <td>688</td>\n",
       "      <td>143</td>\n",
       "      <td>6.02</td>\n",
       "    </tr>\n",
       "    <tr>\n",
       "      <th>573</th>\n",
       "      <td>Yoishirrala98</td>\n",
       "      <td>17</td>\n",
       "      <td>572</td>\n",
       "      <td>145</td>\n",
       "      <td>4.58</td>\n",
       "    </tr>\n",
       "    <tr>\n",
       "      <th>574</th>\n",
       "      <td>Zhisrisu83</td>\n",
       "      <td>10</td>\n",
       "      <td>195</td>\n",
       "      <td>85</td>\n",
       "      <td>7.89</td>\n",
       "    </tr>\n",
       "    <tr>\n",
       "      <th>575</th>\n",
       "      <td>Zontibe81</td>\n",
       "      <td>21</td>\n",
       "      <td>1019</td>\n",
       "      <td>247</td>\n",
       "      <td>8.03</td>\n",
       "    </tr>\n",
       "  </tbody>\n",
       "</table>\n",
       "<p>576 rows × 5 columns</p>\n",
       "</div>"
      ],
      "text/plain": [
       "                SN  Age  Purchase ID  Item ID  Price\n",
       "0     Adairialis76   16          467      123   2.28\n",
       "1      Adastirin33   35          142      175   4.48\n",
       "2           Aeda94   17          388      128   4.91\n",
       "3           Aela59   21           28      119   4.32\n",
       "4        Aelaria33   23          630      171   1.79\n",
       "..             ...  ...          ...      ...    ...\n",
       "571     Yathecal82   20         1400      241   6.22\n",
       "572     Yathedeu43   22          688      143   6.02\n",
       "573  Yoishirrala98   17          572      145   4.58\n",
       "574     Zhisrisu83   10          195       85   7.89\n",
       "575      Zontibe81   21         1019      247   8.03\n",
       "\n",
       "[576 rows x 5 columns]"
      ]
     },
     "execution_count": 66,
     "metadata": {},
     "output_type": "execute_result"
    }
   ],
   "source": [
    "# Creates a DF from the groupby object after grouping the original data by SN. Will use DF created to bin each user by age.\n",
    "users_by_age = df.groupby([\"SN\",\"Age\"],as_index=False).sum()\n",
    "users_by_age"
   ]
  },
  {
   "cell_type": "code",
   "execution_count": 67,
   "id": "e1f7b384-e511-4e02-b606-916635ed1ffc",
   "metadata": {},
   "outputs": [
    {
     "data": {
      "text/plain": [
       "[17, 22, 107, 258, 77, 52, 31, 12]"
      ]
     },
     "execution_count": 67,
     "metadata": {},
     "output_type": "execute_result"
    }
   ],
   "source": [
    "# Takes DF created above and bins it by age so that each user is only counted once\n",
    "binned_age_df = users_by_age.groupby(pd.cut(users_by_age[\"Age\"], bins))\n",
    "players_by_age = binned_age_df[\"SN\"].count().to_list()\n",
    "players_by_age"
   ]
  },
  {
   "cell_type": "code",
   "execution_count": 68,
   "id": "88ee1590-90fc-4aed-bed3-12431e03c028",
   "metadata": {},
   "outputs": [
    {
     "data": {
      "text/plain": [
       "[2.95, 3.82, 18.58, 44.79, 13.37, 9.03, 5.38, 2.08]"
      ]
     },
     "execution_count": 68,
     "metadata": {},
     "output_type": "execute_result"
    }
   ],
   "source": [
    "percent_players_by_age = round((binned_age_df[\"SN\"].count() / users_by_age[\"SN\"].count()) * 100, 2).to_list()\n",
    "percent_players_by_age"
   ]
  },
  {
   "cell_type": "code",
   "execution_count": 69,
   "id": "03906d38-ed22-40f7-a295-8e86de0fb177",
   "metadata": {},
   "outputs": [
    {
     "data": {
      "text/plain": [
       "[4.54, 3.76, 3.86, 4.32, 3.81, 4.12, 4.76, 3.19]"
      ]
     },
     "execution_count": 69,
     "metadata": {},
     "output_type": "execute_result"
    }
   ],
   "source": [
    "average_individual_spend_age = round(binned_age_df[\"Price\"].mean(), 2).to_list()\n",
    "average_individual_spend_age"
   ]
  },
  {
   "cell_type": "code",
   "execution_count": 70,
   "id": "1467d9dd-d227-4a35-89a4-02b0718343a2",
   "metadata": {},
   "outputs": [
    {
     "data": {
      "text/html": [
       "<div>\n",
       "<style scoped>\n",
       "    .dataframe tbody tr th:only-of-type {\n",
       "        vertical-align: middle;\n",
       "    }\n",
       "\n",
       "    .dataframe tbody tr th {\n",
       "        vertical-align: top;\n",
       "    }\n",
       "\n",
       "    .dataframe thead th {\n",
       "        text-align: right;\n",
       "    }\n",
       "</style>\n",
       "<table border=\"1\" class=\"dataframe\">\n",
       "  <thead>\n",
       "    <tr style=\"text-align: right;\">\n",
       "      <th></th>\n",
       "      <th>Age</th>\n",
       "      <th>Total Count</th>\n",
       "      <th>Percentage of Players</th>\n",
       "    </tr>\n",
       "  </thead>\n",
       "  <tbody>\n",
       "    <tr>\n",
       "      <th>0</th>\n",
       "      <td>&lt;10</td>\n",
       "      <td>17</td>\n",
       "      <td>2.95</td>\n",
       "    </tr>\n",
       "    <tr>\n",
       "      <th>1</th>\n",
       "      <td>10-14</td>\n",
       "      <td>22</td>\n",
       "      <td>3.82</td>\n",
       "    </tr>\n",
       "    <tr>\n",
       "      <th>2</th>\n",
       "      <td>15-19</td>\n",
       "      <td>107</td>\n",
       "      <td>18.58</td>\n",
       "    </tr>\n",
       "    <tr>\n",
       "      <th>3</th>\n",
       "      <td>20-24</td>\n",
       "      <td>258</td>\n",
       "      <td>44.79</td>\n",
       "    </tr>\n",
       "    <tr>\n",
       "      <th>4</th>\n",
       "      <td>25-29</td>\n",
       "      <td>77</td>\n",
       "      <td>13.37</td>\n",
       "    </tr>\n",
       "    <tr>\n",
       "      <th>5</th>\n",
       "      <td>30-34</td>\n",
       "      <td>52</td>\n",
       "      <td>9.03</td>\n",
       "    </tr>\n",
       "    <tr>\n",
       "      <th>6</th>\n",
       "      <td>35-39</td>\n",
       "      <td>31</td>\n",
       "      <td>5.38</td>\n",
       "    </tr>\n",
       "    <tr>\n",
       "      <th>7</th>\n",
       "      <td>40+</td>\n",
       "      <td>12</td>\n",
       "      <td>2.08</td>\n",
       "    </tr>\n",
       "  </tbody>\n",
       "</table>\n",
       "</div>"
      ],
      "text/plain": [
       "     Age  Total Count  Percentage of Players\n",
       "0    <10           17                   2.95\n",
       "1  10-14           22                   3.82\n",
       "2  15-19          107                  18.58\n",
       "3  20-24          258                  44.79\n",
       "4  25-29           77                  13.37\n",
       "5  30-34           52                   9.03\n",
       "6  35-39           31                   5.38\n",
       "7    40+           12                   2.08"
      ]
     },
     "execution_count": 70,
     "metadata": {},
     "output_type": "execute_result"
    }
   ],
   "source": [
    "age_demographics_df = pd.DataFrame({\n",
    "    \"Age\": bin_labels,\n",
    "    \"Total Count\": players_by_age,\n",
    "    \"Percentage of Players\": percent_players_by_age,\n",
    "})\n",
    "age_demographics_df"
   ]
  },
  {
   "cell_type": "code",
   "execution_count": 71,
   "id": "0af2f8ce-64d8-426e-a5e3-e0b363535aeb",
   "metadata": {},
   "outputs": [
    {
     "data": {
      "text/html": [
       "<div>\n",
       "<style scoped>\n",
       "    .dataframe tbody tr th:only-of-type {\n",
       "        vertical-align: middle;\n",
       "    }\n",
       "\n",
       "    .dataframe tbody tr th {\n",
       "        vertical-align: top;\n",
       "    }\n",
       "\n",
       "    .dataframe thead th {\n",
       "        text-align: right;\n",
       "    }\n",
       "</style>\n",
       "<table border=\"1\" class=\"dataframe\">\n",
       "  <thead>\n",
       "    <tr style=\"text-align: right;\">\n",
       "      <th></th>\n",
       "      <th>Age</th>\n",
       "      <th>Total Count</th>\n",
       "      <th>Average Purchase Price</th>\n",
       "      <th>Average Total Purchase per Person</th>\n",
       "    </tr>\n",
       "  </thead>\n",
       "  <tbody>\n",
       "    <tr>\n",
       "      <th>0</th>\n",
       "      <td>&lt;10</td>\n",
       "      <td>23</td>\n",
       "      <td>77.13</td>\n",
       "      <td>4.54</td>\n",
       "    </tr>\n",
       "    <tr>\n",
       "      <th>1</th>\n",
       "      <td>10-14</td>\n",
       "      <td>28</td>\n",
       "      <td>82.78</td>\n",
       "      <td>3.76</td>\n",
       "    </tr>\n",
       "    <tr>\n",
       "      <th>2</th>\n",
       "      <td>15-19</td>\n",
       "      <td>136</td>\n",
       "      <td>412.89</td>\n",
       "      <td>3.86</td>\n",
       "    </tr>\n",
       "    <tr>\n",
       "      <th>3</th>\n",
       "      <td>20-24</td>\n",
       "      <td>365</td>\n",
       "      <td>1114.06</td>\n",
       "      <td>4.32</td>\n",
       "    </tr>\n",
       "    <tr>\n",
       "      <th>4</th>\n",
       "      <td>25-29</td>\n",
       "      <td>101</td>\n",
       "      <td>293.00</td>\n",
       "      <td>3.81</td>\n",
       "    </tr>\n",
       "    <tr>\n",
       "      <th>5</th>\n",
       "      <td>30-34</td>\n",
       "      <td>73</td>\n",
       "      <td>214.00</td>\n",
       "      <td>4.12</td>\n",
       "    </tr>\n",
       "    <tr>\n",
       "      <th>6</th>\n",
       "      <td>35-39</td>\n",
       "      <td>41</td>\n",
       "      <td>147.67</td>\n",
       "      <td>4.76</td>\n",
       "    </tr>\n",
       "    <tr>\n",
       "      <th>7</th>\n",
       "      <td>40+</td>\n",
       "      <td>13</td>\n",
       "      <td>38.24</td>\n",
       "      <td>3.19</td>\n",
       "    </tr>\n",
       "  </tbody>\n",
       "</table>\n",
       "</div>"
      ],
      "text/plain": [
       "     Age  Total Count  Average Purchase Price  \\\n",
       "0    <10           23                   77.13   \n",
       "1  10-14           28                   82.78   \n",
       "2  15-19          136                  412.89   \n",
       "3  20-24          365                 1114.06   \n",
       "4  25-29          101                  293.00   \n",
       "5  30-34           73                  214.00   \n",
       "6  35-39           41                  147.67   \n",
       "7    40+           13                   38.24   \n",
       "\n",
       "   Average Total Purchase per Person  \n",
       "0                               4.54  \n",
       "1                               3.76  \n",
       "2                               3.86  \n",
       "3                               4.32  \n",
       "4                               3.81  \n",
       "5                               4.12  \n",
       "6                               4.76  \n",
       "7                               3.19  "
      ]
     },
     "execution_count": 71,
     "metadata": {},
     "output_type": "execute_result"
    }
   ],
   "source": [
    "age_purchases_df = pd.DataFrame({\n",
    "    \"Age\": bin_labels,\n",
    "    \"Total Count\": purchase_count_by_age,\n",
    "    \"Average Purchase Price\": total_purchase_by_age,\n",
    "    \"Average Total Purchase per Person\": average_individual_spend_age\n",
    "})\n",
    "age_purchases_df"
   ]
  },
  {
   "cell_type": "code",
   "execution_count": 72,
   "id": "8b894e7b-d3f0-467a-8e88-30efc9dc51b3",
   "metadata": {},
   "outputs": [],
   "source": [
    "# Top Spenders Analysis\n",
    "# Filters the users by age DF for the 5 usernames with the highest cumulative Price\n",
    "top_spenders = users_by_age.nlargest(n=5, columns=[\"Price\"])\n",
    "top_5_total_purchase = top_spenders[\"Price\"].to_list()"
   ]
  },
  {
   "cell_type": "code",
   "execution_count": 73,
   "id": "3bd19082-0c9f-460b-85b4-670942cf0e85",
   "metadata": {},
   "outputs": [
    {
     "data": {
      "text/plain": [
       "['Lisosia93', 'Idastidru52', 'Chamjask73', 'Iral74', 'Iskadarya95']"
      ]
     },
     "execution_count": 73,
     "metadata": {},
     "output_type": "execute_result"
    }
   ],
   "source": [
    "# Creates a list for the top 5 usernames\n",
    "top_5_sn = top_spenders[\"SN\"].to_list()\n",
    "top_5_sn"
   ]
  },
  {
   "cell_type": "code",
   "execution_count": 74,
   "id": "90880ef5-f745-4056-a1dd-d6bfa8d2093a",
   "metadata": {},
   "outputs": [
    {
     "data": {
      "text/plain": [
       "[18.96, 15.45, 13.83, 13.62, 13.1]"
      ]
     },
     "execution_count": 74,
     "metadata": {},
     "output_type": "execute_result"
    }
   ],
   "source": [
    "# Creates a list of the total purchase value for each top 5 screen name\n",
    "top_5_total_purchase = round(top_spenders[\"Price\"], 2).to_list()\n",
    "top_5_total_purchase"
   ]
  },
  {
   "cell_type": "code",
   "execution_count": 75,
   "id": "1c9dc95d-079e-40be-8a0f-0c15204e4454",
   "metadata": {},
   "outputs": [],
   "source": [
    "# Returns a dictionary of the purchase count for each screen name\n",
    "player_purchases = df[\"SN\"].value_counts().to_dict()"
   ]
  },
  {
   "cell_type": "code",
   "execution_count": 76,
   "id": "05233ee6-161f-407b-b0b1-84d404826f94",
   "metadata": {},
   "outputs": [],
   "source": [
    "# Retrieves the purchase count from the dictionary above using the top 5 list\n",
    "top_5_purchase_count = [player_purchases[i] for i in top_5_sn]"
   ]
  },
  {
   "cell_type": "code",
   "execution_count": 77,
   "id": "879c8dbf-bb63-4eb2-8895-dfef77e82460",
   "metadata": {},
   "outputs": [],
   "source": [
    "# Creates group by object for performing desired aggregate functions\n",
    "users_by_sn = df.groupby(\"SN\")\n",
    "# Creates a dictionary for screen names average purchase price\n",
    "average_purchase_price = users_by_sn[\"Price\"].mean().to_dict()"
   ]
  },
  {
   "cell_type": "code",
   "execution_count": 78,
   "id": "29fc81de-a201-4b5c-b5cf-508515d4e247",
   "metadata": {},
   "outputs": [],
   "source": [
    "# Creates a list of the average purchase price for the top 5, retrieving from the dictionary\n",
    "top_5_average_purchase = [round(average_purchase_price[i], 2) for i in top_5_sn]"
   ]
  },
  {
   "cell_type": "code",
   "execution_count": 79,
   "id": "04006db2-7029-4800-80bd-4cf9d31c2abc",
   "metadata": {},
   "outputs": [
    {
     "data": {
      "text/html": [
       "<div>\n",
       "<style scoped>\n",
       "    .dataframe tbody tr th:only-of-type {\n",
       "        vertical-align: middle;\n",
       "    }\n",
       "\n",
       "    .dataframe tbody tr th {\n",
       "        vertical-align: top;\n",
       "    }\n",
       "\n",
       "    .dataframe thead th {\n",
       "        text-align: right;\n",
       "    }\n",
       "</style>\n",
       "<table border=\"1\" class=\"dataframe\">\n",
       "  <thead>\n",
       "    <tr style=\"text-align: right;\">\n",
       "      <th></th>\n",
       "      <th>Purchase Count</th>\n",
       "      <th>Average Purchase Price</th>\n",
       "      <th>Total Purchase Value</th>\n",
       "    </tr>\n",
       "    <tr>\n",
       "      <th>SN</th>\n",
       "      <th></th>\n",
       "      <th></th>\n",
       "      <th></th>\n",
       "    </tr>\n",
       "  </thead>\n",
       "  <tbody>\n",
       "    <tr>\n",
       "      <th>Lisosia93</th>\n",
       "      <td>5</td>\n",
       "      <td>3.79</td>\n",
       "      <td>18.96</td>\n",
       "    </tr>\n",
       "    <tr>\n",
       "      <th>Idastidru52</th>\n",
       "      <td>4</td>\n",
       "      <td>3.86</td>\n",
       "      <td>15.45</td>\n",
       "    </tr>\n",
       "    <tr>\n",
       "      <th>Chamjask73</th>\n",
       "      <td>3</td>\n",
       "      <td>4.61</td>\n",
       "      <td>13.83</td>\n",
       "    </tr>\n",
       "    <tr>\n",
       "      <th>Iral74</th>\n",
       "      <td>4</td>\n",
       "      <td>3.41</td>\n",
       "      <td>13.62</td>\n",
       "    </tr>\n",
       "    <tr>\n",
       "      <th>Iskadarya95</th>\n",
       "      <td>3</td>\n",
       "      <td>4.37</td>\n",
       "      <td>13.10</td>\n",
       "    </tr>\n",
       "  </tbody>\n",
       "</table>\n",
       "</div>"
      ],
      "text/plain": [
       "             Purchase Count  Average Purchase Price  Total Purchase Value\n",
       "SN                                                                       \n",
       "Lisosia93                 5                    3.79                 18.96\n",
       "Idastidru52               4                    3.86                 15.45\n",
       "Chamjask73                3                    4.61                 13.83\n",
       "Iral74                    4                    3.41                 13.62\n",
       "Iskadarya95               3                    4.37                 13.10"
      ]
     },
     "execution_count": 79,
     "metadata": {},
     "output_type": "execute_result"
    }
   ],
   "source": [
    "top_5_spenders = pd.DataFrame({\n",
    "    \"SN\": top_5_sn,\n",
    "    \"Purchase Count\": top_5_purchase_count,\n",
    "    \"Average Purchase Price\": top_5_average_purchase,\n",
    "    \"Total Purchase Value\": top_5_total_purchase\n",
    "}).set_index(\"SN\")\n",
    "top_5_spenders"
   ]
  },
  {
   "cell_type": "code",
   "execution_count": 110,
   "id": "44ed4ba8-6ea3-4edb-8f7c-f9c8cf6b84b1",
   "metadata": {},
   "outputs": [
    {
     "data": {
      "text/html": [
       "<div>\n",
       "<style scoped>\n",
       "    .dataframe tbody tr th:only-of-type {\n",
       "        vertical-align: middle;\n",
       "    }\n",
       "\n",
       "    .dataframe tbody tr th {\n",
       "        vertical-align: top;\n",
       "    }\n",
       "\n",
       "    .dataframe thead th {\n",
       "        text-align: right;\n",
       "    }\n",
       "</style>\n",
       "<table border=\"1\" class=\"dataframe\">\n",
       "  <thead>\n",
       "    <tr style=\"text-align: right;\">\n",
       "      <th></th>\n",
       "      <th>Item Name</th>\n",
       "      <th>Price</th>\n",
       "    </tr>\n",
       "  </thead>\n",
       "  <tbody>\n",
       "    <tr>\n",
       "      <th>0</th>\n",
       "      <td>Abyssal Shard</td>\n",
       "      <td>5</td>\n",
       "    </tr>\n",
       "    <tr>\n",
       "      <th>1</th>\n",
       "      <td>Aetherius, Boon of the Blessed</td>\n",
       "      <td>5</td>\n",
       "    </tr>\n",
       "    <tr>\n",
       "      <th>2</th>\n",
       "      <td>Agatha</td>\n",
       "      <td>6</td>\n",
       "    </tr>\n",
       "    <tr>\n",
       "      <th>3</th>\n",
       "      <td>Alpha</td>\n",
       "      <td>3</td>\n",
       "    </tr>\n",
       "    <tr>\n",
       "      <th>4</th>\n",
       "      <td>Alpha, Oath of Zeal</td>\n",
       "      <td>3</td>\n",
       "    </tr>\n",
       "    <tr>\n",
       "      <th>...</th>\n",
       "      <td>...</td>\n",
       "      <td>...</td>\n",
       "    </tr>\n",
       "    <tr>\n",
       "      <th>174</th>\n",
       "      <td>Wolf</td>\n",
       "      <td>8</td>\n",
       "    </tr>\n",
       "    <tr>\n",
       "      <th>175</th>\n",
       "      <td>Wolf, Promise of the Moonwalker</td>\n",
       "      <td>6</td>\n",
       "    </tr>\n",
       "    <tr>\n",
       "      <th>176</th>\n",
       "      <td>Worldbreaker</td>\n",
       "      <td>4</td>\n",
       "    </tr>\n",
       "    <tr>\n",
       "      <th>177</th>\n",
       "      <td>Yearning Crusher</td>\n",
       "      <td>3</td>\n",
       "    </tr>\n",
       "    <tr>\n",
       "      <th>178</th>\n",
       "      <td>Yearning Mageblade</td>\n",
       "      <td>5</td>\n",
       "    </tr>\n",
       "  </tbody>\n",
       "</table>\n",
       "<p>179 rows × 2 columns</p>\n",
       "</div>"
      ],
      "text/plain": [
       "                           Item Name  Price\n",
       "0                      Abyssal Shard      5\n",
       "1     Aetherius, Boon of the Blessed      5\n",
       "2                             Agatha      6\n",
       "3                              Alpha      3\n",
       "4                Alpha, Oath of Zeal      3\n",
       "..                               ...    ...\n",
       "174                             Wolf      8\n",
       "175  Wolf, Promise of the Moonwalker      6\n",
       "176                     Worldbreaker      4\n",
       "177                 Yearning Crusher      3\n",
       "178               Yearning Mageblade      5\n",
       "\n",
       "[179 rows x 2 columns]"
      ]
     },
     "execution_count": 110,
     "metadata": {},
     "output_type": "execute_result"
    }
   ],
   "source": [
    "# Top 5 Items Analysis\n",
    "# Creates group by object for performing desired aggregate functions\n",
    "items_grouped = df.groupby([\"Item Name\"])\n",
    "# Creates a DF of items with their total purchase price summed\n",
    "popular_items = items_grouped[[\"Price\"]].count().reset_index()\n",
    "popular_items"
   ]
  },
  {
   "cell_type": "code",
   "execution_count": 95,
   "id": "c7b8f8a5-835b-433b-b6a7-e54eba1970fb",
   "metadata": {},
   "outputs": [
    {
     "data": {
      "text/plain": [
       "['Final Critic',\n",
       " 'Oathbreaker, Last Hope of the Breaking Storm',\n",
       " 'Extraction, Quickblade Of Trembling Hands',\n",
       " 'Fiery Glass Crusader',\n",
       " 'Nirvana']"
      ]
     },
     "execution_count": 95,
     "metadata": {},
     "output_type": "execute_result"
    }
   ],
   "source": [
    "top_5_items = popular_items.nlargest(n=5, columns=[\"Price\"])[\"Item Name\"].to_list()\n",
    "top_5_items"
   ]
  },
  {
   "cell_type": "code",
   "execution_count": 82,
   "id": "8fefa2dd-4c45-4d19-bd0c-f04577ce782a",
   "metadata": {},
   "outputs": [
    {
     "data": {
      "text/plain": [
       "[13, 12, 9, 9, 9]"
      ]
     },
     "execution_count": 82,
     "metadata": {},
     "output_type": "execute_result"
    }
   ],
   "source": [
    "# Creates dictionary of purchase counts for each unique item\n",
    "item_purchases = df[\"Item Name\"].value_counts().to_dict()\n",
    "item_purchase_count = [item_purchases[i] for i in top_5_items]\n",
    "item_purchase_count"
   ]
  },
  {
   "cell_type": "code",
   "execution_count": 119,
   "id": "ebd315ac-b9b7-4673-aa64-ad3fb6007a14",
   "metadata": {},
   "outputs": [
    {
     "data": {
      "text/plain": [
       "[59.99, 50.76, 31.77, 41.22, 44.1]"
      ]
     },
     "execution_count": 119,
     "metadata": {},
     "output_type": "execute_result"
    }
   ],
   "source": [
    "item_price = items_grouped[\"Price\"].sum()\n",
    "top_item_total_value = [round(item_price[i], 2) for i in top_5_items]\n",
    "top_item_total_value"
   ]
  },
  {
   "cell_type": "code",
   "execution_count": 118,
   "id": "b71b0c44-8eef-43b1-94bd-7581f4d7c7ac",
   "metadata": {},
   "outputs": [
    {
     "data": {
      "text/plain": [
       "[4.61, 4.23, 3.53, 4.58, 4.9]"
      ]
     },
     "execution_count": 118,
     "metadata": {},
     "output_type": "execute_result"
    }
   ],
   "source": [
    "top_item_price = []\n",
    "for i in range(0, len(item_purchase_count)):\n",
    "    item_prices = round(top_item_total_value[i] / item_purchase_count[i], 2)\n",
    "    top_item_price.append(item_prices)\n",
    "top_item_price"
   ]
  },
  {
   "cell_type": "code",
   "execution_count": 90,
   "id": "53985947-fbc8-4e21-be49-7936995ea759",
   "metadata": {},
   "outputs": [
    {
     "data": {
      "text/html": [
       "<div>\n",
       "<style scoped>\n",
       "    .dataframe tbody tr th:only-of-type {\n",
       "        vertical-align: middle;\n",
       "    }\n",
       "\n",
       "    .dataframe tbody tr th {\n",
       "        vertical-align: top;\n",
       "    }\n",
       "\n",
       "    .dataframe thead th {\n",
       "        text-align: right;\n",
       "    }\n",
       "</style>\n",
       "<table border=\"1\" class=\"dataframe\">\n",
       "  <thead>\n",
       "    <tr style=\"text-align: right;\">\n",
       "      <th></th>\n",
       "      <th>Purchase Count</th>\n",
       "      <th>Average Purchase Price</th>\n",
       "      <th>Total Purchase Value</th>\n",
       "    </tr>\n",
       "    <tr>\n",
       "      <th>Item Name</th>\n",
       "      <th></th>\n",
       "      <th></th>\n",
       "      <th></th>\n",
       "    </tr>\n",
       "  </thead>\n",
       "  <tbody>\n",
       "    <tr>\n",
       "      <th>Final Critic</th>\n",
       "      <td>13</td>\n",
       "      <td>4.61</td>\n",
       "      <td>59.99</td>\n",
       "    </tr>\n",
       "    <tr>\n",
       "      <th>Oathbreaker, Last Hope of the Breaking Storm</th>\n",
       "      <td>12</td>\n",
       "      <td>4.23</td>\n",
       "      <td>50.76</td>\n",
       "    </tr>\n",
       "    <tr>\n",
       "      <th>Extraction, Quickblade Of Trembling Hands</th>\n",
       "      <td>9</td>\n",
       "      <td>3.53</td>\n",
       "      <td>31.77</td>\n",
       "    </tr>\n",
       "    <tr>\n",
       "      <th>Fiery Glass Crusader</th>\n",
       "      <td>9</td>\n",
       "      <td>4.58</td>\n",
       "      <td>41.22</td>\n",
       "    </tr>\n",
       "    <tr>\n",
       "      <th>Nirvana</th>\n",
       "      <td>9</td>\n",
       "      <td>4.90</td>\n",
       "      <td>44.10</td>\n",
       "    </tr>\n",
       "  </tbody>\n",
       "</table>\n",
       "</div>"
      ],
      "text/plain": [
       "                                              Purchase Count  \\\n",
       "Item Name                                                      \n",
       "Final Critic                                              13   \n",
       "Oathbreaker, Last Hope of the Breaking Storm              12   \n",
       "Extraction, Quickblade Of Trembling Hands                  9   \n",
       "Fiery Glass Crusader                                       9   \n",
       "Nirvana                                                    9   \n",
       "\n",
       "                                              Average Purchase Price  \\\n",
       "Item Name                                                              \n",
       "Final Critic                                                    4.61   \n",
       "Oathbreaker, Last Hope of the Breaking Storm                    4.23   \n",
       "Extraction, Quickblade Of Trembling Hands                       3.53   \n",
       "Fiery Glass Crusader                                            4.58   \n",
       "Nirvana                                                         4.90   \n",
       "\n",
       "                                              Total Purchase Value  \n",
       "Item Name                                                           \n",
       "Final Critic                                                 59.99  \n",
       "Oathbreaker, Last Hope of the Breaking Storm                 50.76  \n",
       "Extraction, Quickblade Of Trembling Hands                    31.77  \n",
       "Fiery Glass Crusader                                         41.22  \n",
       "Nirvana                                                      44.10  "
      ]
     },
     "execution_count": 90,
     "metadata": {},
     "output_type": "execute_result"
    }
   ],
   "source": [
    "top_5_items = pd.DataFrame({\n",
    "    \"Item Name\": top_5_items,\n",
    "    \"Purchase Count\": item_purchase_count,\n",
    "    \"Average Purchase Price\": top_item_price,\n",
    "    \"Total Purchase Value\": top_item_total_value\n",
    "}).set_index(\"Item Name\")\n",
    "top_5_items"
   ]
  },
  {
   "cell_type": "code",
   "execution_count": 111,
   "id": "f56bf799-d6ae-4f3d-a9f8-853494848fb4",
   "metadata": {},
   "outputs": [
    {
     "data": {
      "text/html": [
       "<div>\n",
       "<style scoped>\n",
       "    .dataframe tbody tr th:only-of-type {\n",
       "        vertical-align: middle;\n",
       "    }\n",
       "\n",
       "    .dataframe tbody tr th {\n",
       "        vertical-align: top;\n",
       "    }\n",
       "\n",
       "    .dataframe thead th {\n",
       "        text-align: right;\n",
       "    }\n",
       "</style>\n",
       "<table border=\"1\" class=\"dataframe\">\n",
       "  <thead>\n",
       "    <tr style=\"text-align: right;\">\n",
       "      <th></th>\n",
       "      <th>Item Name</th>\n",
       "      <th>Price</th>\n",
       "    </tr>\n",
       "  </thead>\n",
       "  <tbody>\n",
       "    <tr>\n",
       "      <th>0</th>\n",
       "      <td>Abyssal Shard</td>\n",
       "      <td>13.35</td>\n",
       "    </tr>\n",
       "    <tr>\n",
       "      <th>1</th>\n",
       "      <td>Aetherius, Boon of the Blessed</td>\n",
       "      <td>16.95</td>\n",
       "    </tr>\n",
       "    <tr>\n",
       "      <th>2</th>\n",
       "      <td>Agatha</td>\n",
       "      <td>18.48</td>\n",
       "    </tr>\n",
       "    <tr>\n",
       "      <th>3</th>\n",
       "      <td>Alpha</td>\n",
       "      <td>6.21</td>\n",
       "    </tr>\n",
       "    <tr>\n",
       "      <th>4</th>\n",
       "      <td>Alpha, Oath of Zeal</td>\n",
       "      <td>12.15</td>\n",
       "    </tr>\n",
       "    <tr>\n",
       "      <th>...</th>\n",
       "      <td>...</td>\n",
       "      <td>...</td>\n",
       "    </tr>\n",
       "    <tr>\n",
       "      <th>174</th>\n",
       "      <td>Wolf</td>\n",
       "      <td>28.32</td>\n",
       "    </tr>\n",
       "    <tr>\n",
       "      <th>175</th>\n",
       "      <td>Wolf, Promise of the Moonwalker</td>\n",
       "      <td>26.88</td>\n",
       "    </tr>\n",
       "    <tr>\n",
       "      <th>176</th>\n",
       "      <td>Worldbreaker</td>\n",
       "      <td>10.40</td>\n",
       "    </tr>\n",
       "    <tr>\n",
       "      <th>177</th>\n",
       "      <td>Yearning Crusher</td>\n",
       "      <td>12.54</td>\n",
       "    </tr>\n",
       "    <tr>\n",
       "      <th>178</th>\n",
       "      <td>Yearning Mageblade</td>\n",
       "      <td>19.10</td>\n",
       "    </tr>\n",
       "  </tbody>\n",
       "</table>\n",
       "<p>179 rows × 2 columns</p>\n",
       "</div>"
      ],
      "text/plain": [
       "                           Item Name  Price\n",
       "0                      Abyssal Shard  13.35\n",
       "1     Aetherius, Boon of the Blessed  16.95\n",
       "2                             Agatha  18.48\n",
       "3                              Alpha   6.21\n",
       "4                Alpha, Oath of Zeal  12.15\n",
       "..                               ...    ...\n",
       "174                             Wolf  28.32\n",
       "175  Wolf, Promise of the Moonwalker  26.88\n",
       "176                     Worldbreaker  10.40\n",
       "177                 Yearning Crusher  12.54\n",
       "178               Yearning Mageblade  19.10\n",
       "\n",
       "[179 rows x 2 columns]"
      ]
     },
     "execution_count": 111,
     "metadata": {},
     "output_type": "execute_result"
    }
   ],
   "source": [
    "# Most Profitable Items Analysis\n",
    "profitable_items = items_grouped[[\"Price\"]].sum().reset_index()\n",
    "profitable_items"
   ]
  },
  {
   "cell_type": "code",
   "execution_count": 112,
   "id": "2f6b7b84-4759-40c1-8b16-44a0b8a493c1",
   "metadata": {},
   "outputs": [
    {
     "data": {
      "text/plain": [
       "['Final Critic',\n",
       " 'Oathbreaker, Last Hope of the Breaking Storm',\n",
       " 'Nirvana',\n",
       " 'Fiery Glass Crusader',\n",
       " 'Singed Scalpel']"
      ]
     },
     "execution_count": 112,
     "metadata": {},
     "output_type": "execute_result"
    }
   ],
   "source": [
    "most_profitable_items = profitable_items.nlargest(n=5, columns=[\"Price\"])[\"Item Name\"].to_list()\n",
    "most_profitable_items"
   ]
  },
  {
   "cell_type": "code",
   "execution_count": 114,
   "id": "33af8332-1310-49b9-a0f8-d8dcdbe4d912",
   "metadata": {},
   "outputs": [
    {
     "data": {
      "text/plain": [
       "[13, 12, 9, 9, 8]"
      ]
     },
     "execution_count": 114,
     "metadata": {},
     "output_type": "execute_result"
    }
   ],
   "source": [
    "profitable_item_purchase_count = [item_purchases[i] for i in most_profitable_items]\n",
    "profitable_item_purchase_count"
   ]
  },
  {
   "cell_type": "code",
   "execution_count": 120,
   "id": "6ed63f6e-2c95-40b4-bcf7-0db266425545",
   "metadata": {},
   "outputs": [
    {
     "data": {
      "text/plain": [
       "[59.99, 50.76, 44.1, 41.22, 34.8]"
      ]
     },
     "execution_count": 120,
     "metadata": {},
     "output_type": "execute_result"
    }
   ],
   "source": [
    "profitable_items_total_value = [round(item_price[i], 2) for i in most_profitable_items]\n",
    "profitable_items_total_value"
   ]
  },
  {
   "cell_type": "code",
   "execution_count": 122,
   "id": "7af9343e-d097-4aa1-92fa-a27c8262d0cd",
   "metadata": {},
   "outputs": [
    {
     "data": {
      "text/plain": [
       "[4.61, 4.23, 4.9, 4.58, 4.35]"
      ]
     },
     "execution_count": 122,
     "metadata": {},
     "output_type": "execute_result"
    }
   ],
   "source": [
    "profitable_item_price = []\n",
    "for i in range(0, len(item_purchase_count)):\n",
    "    item_prices = round(profitable_items_total_value[i] / profitable_item_purchase_count[i], 2)\n",
    "    profitable_item_price.append(item_prices)\n",
    "profitable_item_price"
   ]
  },
  {
   "cell_type": "code",
   "execution_count": 123,
   "id": "a8654af3-41c9-4631-834e-a07dd79392e2",
   "metadata": {},
   "outputs": [
    {
     "data": {
      "text/html": [
       "<div>\n",
       "<style scoped>\n",
       "    .dataframe tbody tr th:only-of-type {\n",
       "        vertical-align: middle;\n",
       "    }\n",
       "\n",
       "    .dataframe tbody tr th {\n",
       "        vertical-align: top;\n",
       "    }\n",
       "\n",
       "    .dataframe thead th {\n",
       "        text-align: right;\n",
       "    }\n",
       "</style>\n",
       "<table border=\"1\" class=\"dataframe\">\n",
       "  <thead>\n",
       "    <tr style=\"text-align: right;\">\n",
       "      <th></th>\n",
       "      <th>Purchase Count</th>\n",
       "      <th>Average Purchase Price</th>\n",
       "      <th>Total Purchase Value</th>\n",
       "    </tr>\n",
       "    <tr>\n",
       "      <th>Item Name</th>\n",
       "      <th></th>\n",
       "      <th></th>\n",
       "      <th></th>\n",
       "    </tr>\n",
       "  </thead>\n",
       "  <tbody>\n",
       "    <tr>\n",
       "      <th>Final Critic</th>\n",
       "      <td>13</td>\n",
       "      <td>4.61</td>\n",
       "      <td>59.99</td>\n",
       "    </tr>\n",
       "    <tr>\n",
       "      <th>Oathbreaker, Last Hope of the Breaking Storm</th>\n",
       "      <td>12</td>\n",
       "      <td>4.23</td>\n",
       "      <td>50.76</td>\n",
       "    </tr>\n",
       "    <tr>\n",
       "      <th>Nirvana</th>\n",
       "      <td>9</td>\n",
       "      <td>4.90</td>\n",
       "      <td>44.10</td>\n",
       "    </tr>\n",
       "    <tr>\n",
       "      <th>Fiery Glass Crusader</th>\n",
       "      <td>9</td>\n",
       "      <td>4.58</td>\n",
       "      <td>41.22</td>\n",
       "    </tr>\n",
       "    <tr>\n",
       "      <th>Singed Scalpel</th>\n",
       "      <td>8</td>\n",
       "      <td>4.35</td>\n",
       "      <td>34.80</td>\n",
       "    </tr>\n",
       "  </tbody>\n",
       "</table>\n",
       "</div>"
      ],
      "text/plain": [
       "                                              Purchase Count  \\\n",
       "Item Name                                                      \n",
       "Final Critic                                              13   \n",
       "Oathbreaker, Last Hope of the Breaking Storm              12   \n",
       "Nirvana                                                    9   \n",
       "Fiery Glass Crusader                                       9   \n",
       "Singed Scalpel                                             8   \n",
       "\n",
       "                                              Average Purchase Price  \\\n",
       "Item Name                                                              \n",
       "Final Critic                                                    4.61   \n",
       "Oathbreaker, Last Hope of the Breaking Storm                    4.23   \n",
       "Nirvana                                                         4.90   \n",
       "Fiery Glass Crusader                                            4.58   \n",
       "Singed Scalpel                                                  4.35   \n",
       "\n",
       "                                              Total Purchase Value  \n",
       "Item Name                                                           \n",
       "Final Critic                                                 59.99  \n",
       "Oathbreaker, Last Hope of the Breaking Storm                 50.76  \n",
       "Nirvana                                                      44.10  \n",
       "Fiery Glass Crusader                                         41.22  \n",
       "Singed Scalpel                                               34.80  "
      ]
     },
     "execution_count": 123,
     "metadata": {},
     "output_type": "execute_result"
    }
   ],
   "source": [
    "top_5_profitable_items = pd.DataFrame({\n",
    "    \"Item Name\": most_profitable_items,\n",
    "    \"Purchase Count\": profitable_item_purchase_count,\n",
    "    \"Average Purchase Price\": profitable_item_price,\n",
    "    \"Total Purchase Value\": profitable_items_total_value\n",
    "}).set_index(\"Item Name\")\n",
    "top_5_profitable_items"
   ]
  },
  {
   "cell_type": "code",
   "execution_count": null,
   "id": "376ee998-e27d-441a-b51e-2d9f59f5ae11",
   "metadata": {},
   "outputs": [],
   "source": []
  }
 ],
 "metadata": {
  "kernelspec": {
   "display_name": "Python 3 (ipykernel)",
   "language": "python",
   "name": "python3"
  },
  "language_info": {
   "codemirror_mode": {
    "name": "ipython",
    "version": 3
   },
   "file_extension": ".py",
   "mimetype": "text/x-python",
   "name": "python",
   "nbconvert_exporter": "python",
   "pygments_lexer": "ipython3",
   "version": "3.8.5"
  }
 },
 "nbformat": 4,
 "nbformat_minor": 5
}
