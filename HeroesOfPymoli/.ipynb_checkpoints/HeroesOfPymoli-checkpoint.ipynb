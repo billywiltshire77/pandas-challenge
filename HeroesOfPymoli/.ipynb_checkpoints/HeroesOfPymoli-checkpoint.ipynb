{
 "cells": [
  {
   "cell_type": "code",
   "execution_count": 2,
   "id": "27636623-7a89-4e96-affb-e03cb052cd7d",
   "metadata": {},
   "outputs": [],
   "source": [
    "import pandas as pd\n",
    "import os"
   ]
  },
  {
   "cell_type": "code",
   "execution_count": 3,
   "id": "3fd99f5f-fa30-4049-8690-92d1e6fc0877",
   "metadata": {},
   "outputs": [],
   "source": [
    "file = os.path.join(\"..\",\"Resources\",\"purchase_data.csv\")"
   ]
  },
  {
   "cell_type": "code",
   "execution_count": 4,
   "id": "c8edae89-6d92-43a0-a5b7-69c2bb81505a",
   "metadata": {},
   "outputs": [
    {
     "data": {
      "text/html": [
       "<div>\n",
       "<style scoped>\n",
       "    .dataframe tbody tr th:only-of-type {\n",
       "        vertical-align: middle;\n",
       "    }\n",
       "\n",
       "    .dataframe tbody tr th {\n",
       "        vertical-align: top;\n",
       "    }\n",
       "\n",
       "    .dataframe thead th {\n",
       "        text-align: right;\n",
       "    }\n",
       "</style>\n",
       "<table border=\"1\" class=\"dataframe\">\n",
       "  <thead>\n",
       "    <tr style=\"text-align: right;\">\n",
       "      <th></th>\n",
       "      <th>Purchase ID</th>\n",
       "      <th>SN</th>\n",
       "      <th>Age</th>\n",
       "      <th>Gender</th>\n",
       "      <th>Item ID</th>\n",
       "      <th>Item Name</th>\n",
       "      <th>Price</th>\n",
       "    </tr>\n",
       "  </thead>\n",
       "  <tbody>\n",
       "    <tr>\n",
       "      <th>0</th>\n",
       "      <td>0</td>\n",
       "      <td>Lisim78</td>\n",
       "      <td>20</td>\n",
       "      <td>Male</td>\n",
       "      <td>108</td>\n",
       "      <td>Extraction, Quickblade Of Trembling Hands</td>\n",
       "      <td>3.53</td>\n",
       "    </tr>\n",
       "    <tr>\n",
       "      <th>1</th>\n",
       "      <td>1</td>\n",
       "      <td>Lisovynya38</td>\n",
       "      <td>40</td>\n",
       "      <td>Male</td>\n",
       "      <td>143</td>\n",
       "      <td>Frenzied Scimitar</td>\n",
       "      <td>1.56</td>\n",
       "    </tr>\n",
       "    <tr>\n",
       "      <th>2</th>\n",
       "      <td>2</td>\n",
       "      <td>Ithergue48</td>\n",
       "      <td>24</td>\n",
       "      <td>Male</td>\n",
       "      <td>92</td>\n",
       "      <td>Final Critic</td>\n",
       "      <td>4.88</td>\n",
       "    </tr>\n",
       "    <tr>\n",
       "      <th>3</th>\n",
       "      <td>3</td>\n",
       "      <td>Chamassasya86</td>\n",
       "      <td>24</td>\n",
       "      <td>Male</td>\n",
       "      <td>100</td>\n",
       "      <td>Blindscythe</td>\n",
       "      <td>3.27</td>\n",
       "    </tr>\n",
       "    <tr>\n",
       "      <th>4</th>\n",
       "      <td>4</td>\n",
       "      <td>Iskosia90</td>\n",
       "      <td>23</td>\n",
       "      <td>Male</td>\n",
       "      <td>131</td>\n",
       "      <td>Fury</td>\n",
       "      <td>1.44</td>\n",
       "    </tr>\n",
       "  </tbody>\n",
       "</table>\n",
       "</div>"
      ],
      "text/plain": [
       "   Purchase ID             SN  Age Gender  Item ID  \\\n",
       "0            0        Lisim78   20   Male      108   \n",
       "1            1    Lisovynya38   40   Male      143   \n",
       "2            2     Ithergue48   24   Male       92   \n",
       "3            3  Chamassasya86   24   Male      100   \n",
       "4            4      Iskosia90   23   Male      131   \n",
       "\n",
       "                                   Item Name  Price  \n",
       "0  Extraction, Quickblade Of Trembling Hands   3.53  \n",
       "1                          Frenzied Scimitar   1.56  \n",
       "2                               Final Critic   4.88  \n",
       "3                                Blindscythe   3.27  \n",
       "4                                       Fury   1.44  "
      ]
     },
     "execution_count": 4,
     "metadata": {},
     "output_type": "execute_result"
    }
   ],
   "source": [
    "df = pd.read_csv(file)\n",
    "df.head(5)"
   ]
  },
  {
   "cell_type": "code",
   "execution_count": 5,
   "id": "b2750c40-898e-4e74-bf94-d025046e808d",
   "metadata": {},
   "outputs": [
    {
     "data": {
      "text/plain": [
       "576"
      ]
     },
     "execution_count": 5,
     "metadata": {},
     "output_type": "execute_result"
    }
   ],
   "source": [
    "# Returns number of SN/user name\n",
    "total_players = len(df[\"SN\"].unique())\n",
    "total_players"
   ]
  },
  {
   "cell_type": "code",
   "execution_count": 6,
   "id": "3094915e-81f4-4c40-90a1-497c97a75420",
   "metadata": {},
   "outputs": [],
   "source": [
    "# Creates a list of all the unique items and then a count of all the items\n",
    "unique_items = df[\"Item Name\"].unique()\n",
    "total_items = len(unique_items)"
   ]
  },
  {
   "cell_type": "code",
   "execution_count": 7,
   "id": "ba060565-60a7-41bd-8f0f-c98c4f5e1719",
   "metadata": {},
   "outputs": [],
   "source": [
    "# Calculates the mean of the Price column\n",
    "average_purchase = df[\"Price\"].mean()\n",
    "# Calculates total revenue by adding the column\n",
    "total_revenue = df[\"Price\"].sum()"
   ]
  },
  {
   "cell_type": "code",
   "execution_count": 8,
   "id": "ee61a140-0bef-45ca-a7f6-f867a4a96e31",
   "metadata": {},
   "outputs": [
    {
     "data": {
      "text/plain": [
       "Male                     652\n",
       "Female                   113\n",
       "Other / Non-Disclosed     15\n",
       "Name: Gender, dtype: int64"
      ]
     },
     "execution_count": 8,
     "metadata": {},
     "output_type": "execute_result"
    }
   ],
   "source": [
    "# Creates a data frame to analyze demographic information\n",
    "demographics_df = df[[\"SN\",\"Gender\"]]\n",
    "demographics_df[\"Gender\"].value_counts()"
   ]
  },
  {
   "cell_type": "code",
   "execution_count": 9,
   "id": "bff6c886-baf1-46bb-985b-e410664c0edb",
   "metadata": {},
   "outputs": [
    {
     "data": {
      "text/plain": [
       "Male                     484\n",
       "Female                    81\n",
       "Other / Non-Disclosed     11\n",
       "Name: Gender, dtype: int64"
      ]
     },
     "execution_count": 9,
     "metadata": {},
     "output_type": "execute_result"
    }
   ],
   "source": [
    "# Removes players who made duplicate purchases to accurately estimate demographic breakup of players\n",
    "player_df = demographics_df.drop_duplicates()\n",
    "player_df[\"Gender\"].value_counts()"
   ]
  },
  {
   "cell_type": "code",
   "execution_count": 10,
   "id": "ec87a4c3-9146-4006-9464-4b6123e96ddd",
   "metadata": {},
   "outputs": [],
   "source": [
    "# Creates variables for number of players by gender\n",
    "male_players = len(player_df.loc[player_df[\"Gender\"] == \"Male\",:])\n",
    "female_players = len(player_df.loc[player_df[\"Gender\"] == \"Female\",:])\n",
    "other_players = len(player_df.loc[player_df[\"Gender\"] == \"Other / Non-Disclosed\",:])"
   ]
  },
  {
   "cell_type": "code",
   "execution_count": 11,
   "id": "3a4fc5f4-be53-46ef-81eb-1cb1e3a5c979",
   "metadata": {},
   "outputs": [],
   "source": [
    "# Stores demographic breakup of players\n",
    "percent_male = round(male_players / total_players, 2)\n",
    "percent_female = round(female_players / total_players, 2)\n",
    "percent_other = round(other_players / total_players, 2)"
   ]
  },
  {
   "cell_type": "code",
   "execution_count": 25,
   "id": "49b1c04e-47b9-4901-8a27-48a2a0da99b2",
   "metadata": {},
   "outputs": [],
   "source": [
    "# Creates df for purchasing analysis by gender\n",
    "purchases_df = df[[\"Age\",\"Gender\",\"Item Name\",\"Price\"]]"
   ]
  },
  {
   "cell_type": "code",
   "execution_count": 26,
   "id": "4e6ca83d-98e8-48da-9a79-5bafdf8acc26",
   "metadata": {},
   "outputs": [
    {
     "data": {
      "text/plain": [
       "Male                     652\n",
       "Female                   113\n",
       "Other / Non-Disclosed     15\n",
       "Name: Gender, dtype: int64"
      ]
     },
     "execution_count": 26,
     "metadata": {},
     "output_type": "execute_result"
    }
   ],
   "source": [
    "purchases_by_gender = purchases_df[\"Gender\"].value_counts()\n",
    "purchases_by_gender"
   ]
  },
  {
   "cell_type": "code",
   "execution_count": 27,
   "id": "4901db9b-00d1-461f-85ee-2264134fa3a6",
   "metadata": {},
   "outputs": [],
   "source": [
    "# Stores average purchase by gender\n",
    "average_male_purchases = purchases_df.loc[purchases_df[\"Gender\"] == \"Male\",\"Price\"].mean()\n",
    "average_female_purchases = purchases_df.loc[purchases_df[\"Gender\"] == \"Female\",\"Price\"].mean()\n",
    "average_other_purchases = purchases_df.loc[purchases_df[\"Gender\"] == \"Other / Non-Disclosed\",\"Price\"].mean()"
   ]
  },
  {
   "cell_type": "code",
   "execution_count": 28,
   "id": "7d763972-3033-4798-8f46-ac5a0684f330",
   "metadata": {},
   "outputs": [],
   "source": [
    "# Stores value for total purchase value by gender\n",
    "total_male_purchases = purchases_df.loc[purchases_df[\"Gender\"] == \"Male\",\"Price\"].sum()\n",
    "total_female_purchases = purchases_df.loc[purchases_df[\"Gender\"] == \"Female\",\"Price\"].sum()\n",
    "total_other_purchases = purchases_df.loc[purchases_df[\"Gender\"] == \"Other / Non-Disclosed\",\"Price\"].sum()"
   ]
  },
  {
   "cell_type": "code",
   "execution_count": 79,
   "id": "2e1da3fa-0e92-4a68-98fd-a554f5854e09",
   "metadata": {},
   "outputs": [],
   "source": [
    "# Creates a group by for average purchase per person by gender\n",
    "purchases_by_person = df.groupby([\"SN\",\"Gender\"],as_index=False)"
   ]
  },
  {
   "cell_type": "code",
   "execution_count": 80,
   "id": "fa4b9cee-1e4b-4db2-8583-c283e8f3b760",
   "metadata": {},
   "outputs": [
    {
     "data": {
      "text/html": [
       "<div>\n",
       "<style scoped>\n",
       "    .dataframe tbody tr th:only-of-type {\n",
       "        vertical-align: middle;\n",
       "    }\n",
       "\n",
       "    .dataframe tbody tr th {\n",
       "        vertical-align: top;\n",
       "    }\n",
       "\n",
       "    .dataframe thead th {\n",
       "        text-align: right;\n",
       "    }\n",
       "</style>\n",
       "<table border=\"1\" class=\"dataframe\">\n",
       "  <thead>\n",
       "    <tr style=\"text-align: right;\">\n",
       "      <th></th>\n",
       "      <th>SN</th>\n",
       "      <th>Gender</th>\n",
       "      <th>Price</th>\n",
       "    </tr>\n",
       "  </thead>\n",
       "  <tbody>\n",
       "    <tr>\n",
       "      <th>0</th>\n",
       "      <td>Adairialis76</td>\n",
       "      <td>Male</td>\n",
       "      <td>2.28</td>\n",
       "    </tr>\n",
       "    <tr>\n",
       "      <th>1</th>\n",
       "      <td>Adastirin33</td>\n",
       "      <td>Female</td>\n",
       "      <td>4.48</td>\n",
       "    </tr>\n",
       "    <tr>\n",
       "      <th>2</th>\n",
       "      <td>Aeda94</td>\n",
       "      <td>Male</td>\n",
       "      <td>4.91</td>\n",
       "    </tr>\n",
       "    <tr>\n",
       "      <th>3</th>\n",
       "      <td>Aela59</td>\n",
       "      <td>Male</td>\n",
       "      <td>4.32</td>\n",
       "    </tr>\n",
       "    <tr>\n",
       "      <th>4</th>\n",
       "      <td>Aelaria33</td>\n",
       "      <td>Male</td>\n",
       "      <td>1.79</td>\n",
       "    </tr>\n",
       "    <tr>\n",
       "      <th>...</th>\n",
       "      <td>...</td>\n",
       "      <td>...</td>\n",
       "      <td>...</td>\n",
       "    </tr>\n",
       "    <tr>\n",
       "      <th>571</th>\n",
       "      <td>Yathecal82</td>\n",
       "      <td>Female</td>\n",
       "      <td>6.22</td>\n",
       "    </tr>\n",
       "    <tr>\n",
       "      <th>572</th>\n",
       "      <td>Yathedeu43</td>\n",
       "      <td>Male</td>\n",
       "      <td>6.02</td>\n",
       "    </tr>\n",
       "    <tr>\n",
       "      <th>573</th>\n",
       "      <td>Yoishirrala98</td>\n",
       "      <td>Female</td>\n",
       "      <td>4.58</td>\n",
       "    </tr>\n",
       "    <tr>\n",
       "      <th>574</th>\n",
       "      <td>Zhisrisu83</td>\n",
       "      <td>Male</td>\n",
       "      <td>7.89</td>\n",
       "    </tr>\n",
       "    <tr>\n",
       "      <th>575</th>\n",
       "      <td>Zontibe81</td>\n",
       "      <td>Male</td>\n",
       "      <td>8.03</td>\n",
       "    </tr>\n",
       "  </tbody>\n",
       "</table>\n",
       "<p>576 rows × 3 columns</p>\n",
       "</div>"
      ],
      "text/plain": [
       "                SN  Gender  Price\n",
       "0     Adairialis76    Male   2.28\n",
       "1      Adastirin33  Female   4.48\n",
       "2           Aeda94    Male   4.91\n",
       "3           Aela59    Male   4.32\n",
       "4        Aelaria33    Male   1.79\n",
       "..             ...     ...    ...\n",
       "571     Yathecal82  Female   6.22\n",
       "572     Yathedeu43    Male   6.02\n",
       "573  Yoishirrala98  Female   4.58\n",
       "574     Zhisrisu83    Male   7.89\n",
       "575      Zontibe81    Male   8.03\n",
       "\n",
       "[576 rows x 3 columns]"
      ]
     },
     "execution_count": 80,
     "metadata": {},
     "output_type": "execute_result"
    }
   ],
   "source": [
    "# Creates a dataframe with the group by object to show the total spend by each screen name\n",
    "individual_player_spend = purchases_by_person[[\"Price\"]].sum()\n",
    "individual_player_spend"
   ]
  },
  {
   "cell_type": "code",
   "execution_count": 86,
   "id": "05a1c7cb-03c9-4889-9d1c-cc3b4eba02fe",
   "metadata": {},
   "outputs": [],
   "source": [
    "# Stores average total per person purchase by gender\n",
    "average_male_spend = individual_player_spend.loc[individual_player_spend[\"Gender\"] == \"Male\",\"Price\"].mean()\n",
    "average_female_spend = individual_player_spend.loc[individual_player_spend[\"Gender\"] == \"Female\",\"Price\"].mean()\n",
    "average_other_spend = individual_player_spend.loc[individual_player_spend[\"Gender\"] == \"Other / Non-Disclosed\",\"Price\"].mean()"
   ]
  },
  {
   "cell_type": "code",
   "execution_count": 115,
   "id": "04c68ded-01ab-47a0-8238-8063ec188469",
   "metadata": {},
   "outputs": [
    {
     "data": {
      "text/plain": [
       "[0, 10, 14, 18, 22, 26, 30, 34, 38, 42, 46]"
      ]
     },
     "execution_count": 115,
     "metadata": {},
     "output_type": "execute_result"
    }
   ],
   "source": [
    "# Create the age bins for analysis\n",
    "bins = [0]\n",
    "for i in range(10, df[\"Age\"].max() + 4, 4):\n",
    "    bins.append(i)\n",
    "bins"
   ]
  },
  {
   "cell_type": "code",
   "execution_count": 117,
   "id": "18fea7f7-10c8-4f6b-ad7f-77905365b3fa",
   "metadata": {},
   "outputs": [],
   "source": [
    "# Creates group by object for each age group\n",
    "groups = df.groupby(pd.cut(df[\"Age\"], bins))"
   ]
  },
  {
   "cell_type": "code",
   "execution_count": 124,
   "id": "261f6d86-64c0-434c-92dd-110989f5833e",
   "metadata": {},
   "outputs": [
    {
     "data": {
      "text/plain": [
       "Age\n",
       "(0, 10]      32\n",
       "(10, 14]     19\n",
       "(14, 18]    113\n",
       "(18, 22]    254\n",
       "(22, 26]    207\n",
       "(26, 30]     63\n",
       "(30, 34]     38\n",
       "(34, 38]     35\n",
       "(38, 42]     15\n",
       "(42, 46]      4\n",
       "Name: Price, dtype: int64"
      ]
     },
     "execution_count": 124,
     "metadata": {},
     "output_type": "execute_result"
    }
   ],
   "source": [
    "# Purchases by age bracket\n",
    "groups[\"Price\"].count()"
   ]
  },
  {
   "cell_type": "code",
   "execution_count": 122,
   "id": "26aaa3bf-3bf0-4369-8e4c-55332c9bea39",
   "metadata": {},
   "outputs": [
    {
     "data": {
      "text/plain": [
       "Age\n",
       "(0, 10]     3.405000\n",
       "(10, 14]    2.681579\n",
       "(14, 18]    3.034602\n",
       "(18, 22]    3.038937\n",
       "(22, 26]    3.063961\n",
       "(26, 30]    2.876667\n",
       "(30, 34]    2.728421\n",
       "(34, 38]    3.552857\n",
       "(38, 42]    3.366667\n",
       "(42, 46]    2.765000\n",
       "Name: Price, dtype: float64"
      ]
     },
     "execution_count": 122,
     "metadata": {},
     "output_type": "execute_result"
    }
   ],
   "source": [
    "# Average purchase by age bracket\n",
    "groups[\"Price\"].mean()"
   ]
  },
  {
   "cell_type": "code",
   "execution_count": 123,
   "id": "2e0a88a1-c914-493c-a118-a14a5c3ab7d2",
   "metadata": {},
   "outputs": [
    {
     "data": {
      "text/plain": [
       "Age\n",
       "(0, 10]     108.96\n",
       "(10, 14]     50.95\n",
       "(14, 18]    342.91\n",
       "(18, 22]    771.89\n",
       "(22, 26]    634.24\n",
       "(26, 30]    181.23\n",
       "(30, 34]    103.68\n",
       "(34, 38]    124.35\n",
       "(38, 42]     50.50\n",
       "(42, 46]     11.06\n",
       "Name: Price, dtype: float64"
      ]
     },
     "execution_count": 123,
     "metadata": {},
     "output_type": "execute_result"
    }
   ],
   "source": [
    "# Total purcahse value by age bracket\n",
    "groups[\"Price\"].sum()"
   ]
  },
  {
   "cell_type": "code",
   "execution_count": null,
   "id": "8f5b3f3d-8775-4f9a-b98c-eeb5c4c76cb5",
   "metadata": {},
   "outputs": [],
   "source": []
  }
 ],
 "metadata": {
  "kernelspec": {
   "display_name": "Python 3 (ipykernel)",
   "language": "python",
   "name": "python3"
  },
  "language_info": {
   "codemirror_mode": {
    "name": "ipython",
    "version": 3
   },
   "file_extension": ".py",
   "mimetype": "text/x-python",
   "name": "python",
   "nbconvert_exporter": "python",
   "pygments_lexer": "ipython3",
   "version": "3.8.5"
  }
 },
 "nbformat": 4,
 "nbformat_minor": 5
}
