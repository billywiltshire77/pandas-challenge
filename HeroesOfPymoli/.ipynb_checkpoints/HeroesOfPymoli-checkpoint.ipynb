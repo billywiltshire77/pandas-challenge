{
 "cells": [
  {
   "cell_type": "code",
   "execution_count": 2,
   "id": "27636623-7a89-4e96-affb-e03cb052cd7d",
   "metadata": {},
   "outputs": [],
   "source": [
    "import pandas as pd\n",
    "import os"
   ]
  },
  {
   "cell_type": "code",
   "execution_count": 3,
   "id": "3fd99f5f-fa30-4049-8690-92d1e6fc0877",
   "metadata": {},
   "outputs": [],
   "source": [
    "file = os.path.join(\"..\",\"Resources\",\"purchase_data.csv\")"
   ]
  },
  {
   "cell_type": "code",
   "execution_count": 4,
   "id": "c8edae89-6d92-43a0-a5b7-69c2bb81505a",
   "metadata": {},
   "outputs": [
    {
     "data": {
      "text/html": [
       "<div>\n",
       "<style scoped>\n",
       "    .dataframe tbody tr th:only-of-type {\n",
       "        vertical-align: middle;\n",
       "    }\n",
       "\n",
       "    .dataframe tbody tr th {\n",
       "        vertical-align: top;\n",
       "    }\n",
       "\n",
       "    .dataframe thead th {\n",
       "        text-align: right;\n",
       "    }\n",
       "</style>\n",
       "<table border=\"1\" class=\"dataframe\">\n",
       "  <thead>\n",
       "    <tr style=\"text-align: right;\">\n",
       "      <th></th>\n",
       "      <th>Purchase ID</th>\n",
       "      <th>SN</th>\n",
       "      <th>Age</th>\n",
       "      <th>Gender</th>\n",
       "      <th>Item ID</th>\n",
       "      <th>Item Name</th>\n",
       "      <th>Price</th>\n",
       "    </tr>\n",
       "  </thead>\n",
       "  <tbody>\n",
       "    <tr>\n",
       "      <th>0</th>\n",
       "      <td>0</td>\n",
       "      <td>Lisim78</td>\n",
       "      <td>20</td>\n",
       "      <td>Male</td>\n",
       "      <td>108</td>\n",
       "      <td>Extraction, Quickblade Of Trembling Hands</td>\n",
       "      <td>3.53</td>\n",
       "    </tr>\n",
       "    <tr>\n",
       "      <th>1</th>\n",
       "      <td>1</td>\n",
       "      <td>Lisovynya38</td>\n",
       "      <td>40</td>\n",
       "      <td>Male</td>\n",
       "      <td>143</td>\n",
       "      <td>Frenzied Scimitar</td>\n",
       "      <td>1.56</td>\n",
       "    </tr>\n",
       "    <tr>\n",
       "      <th>2</th>\n",
       "      <td>2</td>\n",
       "      <td>Ithergue48</td>\n",
       "      <td>24</td>\n",
       "      <td>Male</td>\n",
       "      <td>92</td>\n",
       "      <td>Final Critic</td>\n",
       "      <td>4.88</td>\n",
       "    </tr>\n",
       "    <tr>\n",
       "      <th>3</th>\n",
       "      <td>3</td>\n",
       "      <td>Chamassasya86</td>\n",
       "      <td>24</td>\n",
       "      <td>Male</td>\n",
       "      <td>100</td>\n",
       "      <td>Blindscythe</td>\n",
       "      <td>3.27</td>\n",
       "    </tr>\n",
       "    <tr>\n",
       "      <th>4</th>\n",
       "      <td>4</td>\n",
       "      <td>Iskosia90</td>\n",
       "      <td>23</td>\n",
       "      <td>Male</td>\n",
       "      <td>131</td>\n",
       "      <td>Fury</td>\n",
       "      <td>1.44</td>\n",
       "    </tr>\n",
       "  </tbody>\n",
       "</table>\n",
       "</div>"
      ],
      "text/plain": [
       "   Purchase ID             SN  Age Gender  Item ID  \\\n",
       "0            0        Lisim78   20   Male      108   \n",
       "1            1    Lisovynya38   40   Male      143   \n",
       "2            2     Ithergue48   24   Male       92   \n",
       "3            3  Chamassasya86   24   Male      100   \n",
       "4            4      Iskosia90   23   Male      131   \n",
       "\n",
       "                                   Item Name  Price  \n",
       "0  Extraction, Quickblade Of Trembling Hands   3.53  \n",
       "1                          Frenzied Scimitar   1.56  \n",
       "2                               Final Critic   4.88  \n",
       "3                                Blindscythe   3.27  \n",
       "4                                       Fury   1.44  "
      ]
     },
     "execution_count": 4,
     "metadata": {},
     "output_type": "execute_result"
    }
   ],
   "source": [
    "df = pd.read_csv(file)\n",
    "df.head(5)"
   ]
  },
  {
   "cell_type": "code",
   "execution_count": 5,
   "id": "b2750c40-898e-4e74-bf94-d025046e808d",
   "metadata": {},
   "outputs": [
    {
     "data": {
      "text/plain": [
       "576"
      ]
     },
     "execution_count": 5,
     "metadata": {},
     "output_type": "execute_result"
    }
   ],
   "source": [
    "# Returns number of SN/user name\n",
    "total_players = len(df[\"SN\"].unique())\n",
    "total_players"
   ]
  },
  {
   "cell_type": "code",
   "execution_count": 6,
   "id": "3094915e-81f4-4c40-90a1-497c97a75420",
   "metadata": {},
   "outputs": [],
   "source": [
    "# Creates a list of all the unique items and then a count of all the items\n",
    "unique_items = df[\"Item Name\"].unique()\n",
    "total_items = len(unique_items)"
   ]
  },
  {
   "cell_type": "code",
   "execution_count": 7,
   "id": "ba060565-60a7-41bd-8f0f-c98c4f5e1719",
   "metadata": {},
   "outputs": [],
   "source": [
    "# Calculates the mean of the Price column\n",
    "average_purchase = df[\"Price\"].mean()\n",
    "# Calculates total revenue by adding the column\n",
    "total_revenue = df[\"Price\"].sum()"
   ]
  },
  {
   "cell_type": "code",
   "execution_count": 8,
   "id": "ee61a140-0bef-45ca-a7f6-f867a4a96e31",
   "metadata": {},
   "outputs": [
    {
     "data": {
      "text/plain": [
       "Male                     652\n",
       "Female                   113\n",
       "Other / Non-Disclosed     15\n",
       "Name: Gender, dtype: int64"
      ]
     },
     "execution_count": 8,
     "metadata": {},
     "output_type": "execute_result"
    }
   ],
   "source": [
    "# Creates a data frame to analyze demographic information\n",
    "demographics_df = df[[\"SN\",\"Gender\"]]\n",
    "demographics_df[\"Gender\"].value_counts()"
   ]
  },
  {
   "cell_type": "code",
   "execution_count": 9,
   "id": "bff6c886-baf1-46bb-985b-e410664c0edb",
   "metadata": {},
   "outputs": [
    {
     "data": {
      "text/plain": [
       "Male                     484\n",
       "Female                    81\n",
       "Other / Non-Disclosed     11\n",
       "Name: Gender, dtype: int64"
      ]
     },
     "execution_count": 9,
     "metadata": {},
     "output_type": "execute_result"
    }
   ],
   "source": [
    "# Removes players who made duplicate purchases to accurately estimate demographic breakup of players\n",
    "player_df = demographics_df.drop_duplicates()\n",
    "player_df[\"Gender\"].value_counts()"
   ]
  },
  {
   "cell_type": "code",
   "execution_count": 10,
   "id": "ec87a4c3-9146-4006-9464-4b6123e96ddd",
   "metadata": {},
   "outputs": [],
   "source": [
    "# Creates variables for number of players by gender\n",
    "male_players = len(player_df.loc[player_df[\"Gender\"] == \"Male\",:])\n",
    "female_players = len(player_df.loc[player_df[\"Gender\"] == \"Female\",:])\n",
    "other_players = len(player_df.loc[player_df[\"Gender\"] == \"Other / Non-Disclosed\",:])"
   ]
  },
  {
   "cell_type": "code",
   "execution_count": 11,
   "id": "3a4fc5f4-be53-46ef-81eb-1cb1e3a5c979",
   "metadata": {},
   "outputs": [],
   "source": [
    "# Stores demographic breakup of players\n",
    "percent_male = round(male_players / total_players, 2)\n",
    "percent_female = round(female_players / total_players, 2)\n",
    "percent_other = round(other_players / total_players, 2)"
   ]
  },
  {
   "cell_type": "code",
   "execution_count": 25,
   "id": "49b1c04e-47b9-4901-8a27-48a2a0da99b2",
   "metadata": {},
   "outputs": [],
   "source": [
    "# Creates df for purchasing analysis by gender\n",
    "purchases_df = df[[\"Age\",\"Gender\",\"Item Name\",\"Price\"]]"
   ]
  },
  {
   "cell_type": "code",
   "execution_count": 26,
   "id": "4e6ca83d-98e8-48da-9a79-5bafdf8acc26",
   "metadata": {},
   "outputs": [
    {
     "data": {
      "text/plain": [
       "Male                     652\n",
       "Female                   113\n",
       "Other / Non-Disclosed     15\n",
       "Name: Gender, dtype: int64"
      ]
     },
     "execution_count": 26,
     "metadata": {},
     "output_type": "execute_result"
    }
   ],
   "source": [
    "purchases_by_gender = purchases_df[\"Gender\"].value_counts()\n",
    "purchases_by_gender"
   ]
  },
  {
   "cell_type": "code",
   "execution_count": 27,
   "id": "4901db9b-00d1-461f-85ee-2264134fa3a6",
   "metadata": {},
   "outputs": [],
   "source": [
    "# Stores average purchase by gender\n",
    "average_male_purchases = purchases_df.loc[purchases_df[\"Gender\"] == \"Male\",\"Price\"].mean()\n",
    "average_female_purchases = purchases_df.loc[purchases_df[\"Gender\"] == \"Female\",\"Price\"].mean()\n",
    "average_other_purchases = purchases_df.loc[purchases_df[\"Gender\"] == \"Other / Non-Disclosed\",\"Price\"].mean()"
   ]
  },
  {
   "cell_type": "code",
   "execution_count": 28,
   "id": "7d763972-3033-4798-8f46-ac5a0684f330",
   "metadata": {},
   "outputs": [],
   "source": [
    "# Stores value for total purchase value by gender\n",
    "total_male_purchases = purchases_df.loc[purchases_df[\"Gender\"] == \"Male\",\"Price\"].sum()\n",
    "total_female_purchases = purchases_df.loc[purchases_df[\"Gender\"] == \"Female\",\"Price\"].sum()\n",
    "total_other_purchases = purchases_df.loc[purchases_df[\"Gender\"] == \"Other / Non-Disclosed\",\"Price\"].sum()"
   ]
  },
  {
   "cell_type": "code",
   "execution_count": 79,
   "id": "2e1da3fa-0e92-4a68-98fd-a554f5854e09",
   "metadata": {},
   "outputs": [],
   "source": [
    "# Creates a group by for average purchase per person by gender\n",
    "purchases_by_person = df.groupby([\"SN\",\"Gender\"],as_index=False)"
   ]
  },
  {
   "cell_type": "code",
   "execution_count": 80,
   "id": "fa4b9cee-1e4b-4db2-8583-c283e8f3b760",
   "metadata": {},
   "outputs": [
    {
     "data": {
      "text/html": [
       "<div>\n",
       "<style scoped>\n",
       "    .dataframe tbody tr th:only-of-type {\n",
       "        vertical-align: middle;\n",
       "    }\n",
       "\n",
       "    .dataframe tbody tr th {\n",
       "        vertical-align: top;\n",
       "    }\n",
       "\n",
       "    .dataframe thead th {\n",
       "        text-align: right;\n",
       "    }\n",
       "</style>\n",
       "<table border=\"1\" class=\"dataframe\">\n",
       "  <thead>\n",
       "    <tr style=\"text-align: right;\">\n",
       "      <th></th>\n",
       "      <th>SN</th>\n",
       "      <th>Gender</th>\n",
       "      <th>Price</th>\n",
       "    </tr>\n",
       "  </thead>\n",
       "  <tbody>\n",
       "    <tr>\n",
       "      <th>0</th>\n",
       "      <td>Adairialis76</td>\n",
       "      <td>Male</td>\n",
       "      <td>2.28</td>\n",
       "    </tr>\n",
       "    <tr>\n",
       "      <th>1</th>\n",
       "      <td>Adastirin33</td>\n",
       "      <td>Female</td>\n",
       "      <td>4.48</td>\n",
       "    </tr>\n",
       "    <tr>\n",
       "      <th>2</th>\n",
       "      <td>Aeda94</td>\n",
       "      <td>Male</td>\n",
       "      <td>4.91</td>\n",
       "    </tr>\n",
       "    <tr>\n",
       "      <th>3</th>\n",
       "      <td>Aela59</td>\n",
       "      <td>Male</td>\n",
       "      <td>4.32</td>\n",
       "    </tr>\n",
       "    <tr>\n",
       "      <th>4</th>\n",
       "      <td>Aelaria33</td>\n",
       "      <td>Male</td>\n",
       "      <td>1.79</td>\n",
       "    </tr>\n",
       "    <tr>\n",
       "      <th>...</th>\n",
       "      <td>...</td>\n",
       "      <td>...</td>\n",
       "      <td>...</td>\n",
       "    </tr>\n",
       "    <tr>\n",
       "      <th>571</th>\n",
       "      <td>Yathecal82</td>\n",
       "      <td>Female</td>\n",
       "      <td>6.22</td>\n",
       "    </tr>\n",
       "    <tr>\n",
       "      <th>572</th>\n",
       "      <td>Yathedeu43</td>\n",
       "      <td>Male</td>\n",
       "      <td>6.02</td>\n",
       "    </tr>\n",
       "    <tr>\n",
       "      <th>573</th>\n",
       "      <td>Yoishirrala98</td>\n",
       "      <td>Female</td>\n",
       "      <td>4.58</td>\n",
       "    </tr>\n",
       "    <tr>\n",
       "      <th>574</th>\n",
       "      <td>Zhisrisu83</td>\n",
       "      <td>Male</td>\n",
       "      <td>7.89</td>\n",
       "    </tr>\n",
       "    <tr>\n",
       "      <th>575</th>\n",
       "      <td>Zontibe81</td>\n",
       "      <td>Male</td>\n",
       "      <td>8.03</td>\n",
       "    </tr>\n",
       "  </tbody>\n",
       "</table>\n",
       "<p>576 rows × 3 columns</p>\n",
       "</div>"
      ],
      "text/plain": [
       "                SN  Gender  Price\n",
       "0     Adairialis76    Male   2.28\n",
       "1      Adastirin33  Female   4.48\n",
       "2           Aeda94    Male   4.91\n",
       "3           Aela59    Male   4.32\n",
       "4        Aelaria33    Male   1.79\n",
       "..             ...     ...    ...\n",
       "571     Yathecal82  Female   6.22\n",
       "572     Yathedeu43    Male   6.02\n",
       "573  Yoishirrala98  Female   4.58\n",
       "574     Zhisrisu83    Male   7.89\n",
       "575      Zontibe81    Male   8.03\n",
       "\n",
       "[576 rows x 3 columns]"
      ]
     },
     "execution_count": 80,
     "metadata": {},
     "output_type": "execute_result"
    }
   ],
   "source": [
    "# Creates a dataframe with the group by object to show the total spend by each screen name\n",
    "individual_player_spend = purchases_by_person[[\"Price\"]].sum()\n",
    "individual_player_spend"
   ]
  },
  {
   "cell_type": "code",
   "execution_count": 86,
   "id": "05a1c7cb-03c9-4889-9d1c-cc3b4eba02fe",
   "metadata": {},
   "outputs": [],
   "source": [
    "# Stores average total per person purchase by gender\n",
    "average_male_spend = individual_player_spend.loc[individual_player_spend[\"Gender\"] == \"Male\",\"Price\"].mean()\n",
    "average_female_spend = individual_player_spend.loc[individual_player_spend[\"Gender\"] == \"Female\",\"Price\"].mean()\n",
    "average_other_spend = individual_player_spend.loc[individual_player_spend[\"Gender\"] == \"Other / Non-Disclosed\",\"Price\"].mean()"
   ]
  },
  {
   "cell_type": "code",
   "execution_count": 187,
   "id": "04c68ded-01ab-47a0-8238-8063ec188469",
   "metadata": {},
   "outputs": [
    {
     "data": {
      "text/plain": [
       "[0, 10, 15, 20, 25, 30, 35, 40, 45]"
      ]
     },
     "execution_count": 187,
     "metadata": {},
     "output_type": "execute_result"
    }
   ],
   "source": [
    "# Create the age bins for analysis\n",
    "bins = [0]\n",
    "for i in range(10, df[\"Age\"].max() + 4, 5):\n",
    "    bins.append(i)\n",
    "bins"
   ]
  },
  {
   "cell_type": "code",
   "execution_count": 188,
   "id": "18fea7f7-10c8-4f6b-ad7f-77905365b3fa",
   "metadata": {},
   "outputs": [],
   "source": [
    "# Creates group by object for each age group\n",
    "groups = df.groupby(pd.cut(df[\"Age\"], bins))"
   ]
  },
  {
   "cell_type": "code",
   "execution_count": 189,
   "id": "261f6d86-64c0-434c-92dd-110989f5833e",
   "metadata": {},
   "outputs": [
    {
     "data": {
      "text/plain": [
       "Age\n",
       "(0, 10]      32\n",
       "(10, 15]     54\n",
       "(15, 20]    200\n",
       "(20, 25]    325\n",
       "(25, 30]     77\n",
       "(30, 35]     52\n",
       "(35, 40]     33\n",
       "(40, 45]      7\n",
       "Name: Price, dtype: int64"
      ]
     },
     "execution_count": 189,
     "metadata": {},
     "output_type": "execute_result"
    }
   ],
   "source": [
    "# Purchases by age bracket\n",
    "groups[\"Price\"].count()"
   ]
  },
  {
   "cell_type": "code",
   "execution_count": 190,
   "id": "26aaa3bf-3bf0-4369-8e4c-55332c9bea39",
   "metadata": {},
   "outputs": [
    {
     "data": {
      "text/plain": [
       "Age\n",
       "(0, 10]     3.405000\n",
       "(10, 15]    2.900000\n",
       "(15, 20]    3.107800\n",
       "(20, 25]    3.020431\n",
       "(25, 30]    2.875584\n",
       "(30, 35]    2.994423\n",
       "(35, 40]    3.404545\n",
       "(40, 45]    3.075714\n",
       "Name: Price, dtype: float64"
      ]
     },
     "execution_count": 190,
     "metadata": {},
     "output_type": "execute_result"
    }
   ],
   "source": [
    "# Average purchase by age bracket\n",
    "groups[\"Price\"].mean()"
   ]
  },
  {
   "cell_type": "code",
   "execution_count": 191,
   "id": "2e0a88a1-c914-493c-a118-a14a5c3ab7d2",
   "metadata": {},
   "outputs": [
    {
     "data": {
      "text/plain": [
       "Age\n",
       "(0, 10]     108.96\n",
       "(10, 15]    156.60\n",
       "(15, 20]    621.56\n",
       "(20, 25]    981.64\n",
       "(25, 30]    221.42\n",
       "(30, 35]    155.71\n",
       "(35, 40]    112.35\n",
       "(40, 45]     21.53\n",
       "Name: Price, dtype: float64"
      ]
     },
     "execution_count": 191,
     "metadata": {},
     "output_type": "execute_result"
    }
   ],
   "source": [
    "# Total purcahse value by age bracket\n",
    "groups[\"Price\"].sum()"
   ]
  },
  {
   "cell_type": "code",
   "execution_count": 192,
   "id": "8f5b3f3d-8775-4f9a-b98c-eeb5c4c76cb5",
   "metadata": {},
   "outputs": [
    {
     "data": {
      "text/html": [
       "<div>\n",
       "<style scoped>\n",
       "    .dataframe tbody tr th:only-of-type {\n",
       "        vertical-align: middle;\n",
       "    }\n",
       "\n",
       "    .dataframe tbody tr th {\n",
       "        vertical-align: top;\n",
       "    }\n",
       "\n",
       "    .dataframe thead th {\n",
       "        text-align: right;\n",
       "    }\n",
       "</style>\n",
       "<table border=\"1\" class=\"dataframe\">\n",
       "  <thead>\n",
       "    <tr style=\"text-align: right;\">\n",
       "      <th></th>\n",
       "      <th>SN</th>\n",
       "      <th>Age</th>\n",
       "      <th>Purchase ID</th>\n",
       "      <th>Item ID</th>\n",
       "      <th>Price</th>\n",
       "    </tr>\n",
       "  </thead>\n",
       "  <tbody>\n",
       "    <tr>\n",
       "      <th>0</th>\n",
       "      <td>Adairialis76</td>\n",
       "      <td>16</td>\n",
       "      <td>467</td>\n",
       "      <td>123</td>\n",
       "      <td>2.28</td>\n",
       "    </tr>\n",
       "    <tr>\n",
       "      <th>1</th>\n",
       "      <td>Adastirin33</td>\n",
       "      <td>35</td>\n",
       "      <td>142</td>\n",
       "      <td>175</td>\n",
       "      <td>4.48</td>\n",
       "    </tr>\n",
       "    <tr>\n",
       "      <th>2</th>\n",
       "      <td>Aeda94</td>\n",
       "      <td>17</td>\n",
       "      <td>388</td>\n",
       "      <td>128</td>\n",
       "      <td>4.91</td>\n",
       "    </tr>\n",
       "    <tr>\n",
       "      <th>3</th>\n",
       "      <td>Aela59</td>\n",
       "      <td>21</td>\n",
       "      <td>28</td>\n",
       "      <td>119</td>\n",
       "      <td>4.32</td>\n",
       "    </tr>\n",
       "    <tr>\n",
       "      <th>4</th>\n",
       "      <td>Aelaria33</td>\n",
       "      <td>23</td>\n",
       "      <td>630</td>\n",
       "      <td>171</td>\n",
       "      <td>1.79</td>\n",
       "    </tr>\n",
       "    <tr>\n",
       "      <th>...</th>\n",
       "      <td>...</td>\n",
       "      <td>...</td>\n",
       "      <td>...</td>\n",
       "      <td>...</td>\n",
       "      <td>...</td>\n",
       "    </tr>\n",
       "    <tr>\n",
       "      <th>571</th>\n",
       "      <td>Yathecal82</td>\n",
       "      <td>20</td>\n",
       "      <td>1400</td>\n",
       "      <td>241</td>\n",
       "      <td>6.22</td>\n",
       "    </tr>\n",
       "    <tr>\n",
       "      <th>572</th>\n",
       "      <td>Yathedeu43</td>\n",
       "      <td>22</td>\n",
       "      <td>688</td>\n",
       "      <td>143</td>\n",
       "      <td>6.02</td>\n",
       "    </tr>\n",
       "    <tr>\n",
       "      <th>573</th>\n",
       "      <td>Yoishirrala98</td>\n",
       "      <td>17</td>\n",
       "      <td>572</td>\n",
       "      <td>145</td>\n",
       "      <td>4.58</td>\n",
       "    </tr>\n",
       "    <tr>\n",
       "      <th>574</th>\n",
       "      <td>Zhisrisu83</td>\n",
       "      <td>10</td>\n",
       "      <td>195</td>\n",
       "      <td>85</td>\n",
       "      <td>7.89</td>\n",
       "    </tr>\n",
       "    <tr>\n",
       "      <th>575</th>\n",
       "      <td>Zontibe81</td>\n",
       "      <td>21</td>\n",
       "      <td>1019</td>\n",
       "      <td>247</td>\n",
       "      <td>8.03</td>\n",
       "    </tr>\n",
       "  </tbody>\n",
       "</table>\n",
       "<p>576 rows × 5 columns</p>\n",
       "</div>"
      ],
      "text/plain": [
       "                SN  Age  Purchase ID  Item ID  Price\n",
       "0     Adairialis76   16          467      123   2.28\n",
       "1      Adastirin33   35          142      175   4.48\n",
       "2           Aeda94   17          388      128   4.91\n",
       "3           Aela59   21           28      119   4.32\n",
       "4        Aelaria33   23          630      171   1.79\n",
       "..             ...  ...          ...      ...    ...\n",
       "571     Yathecal82   20         1400      241   6.22\n",
       "572     Yathedeu43   22          688      143   6.02\n",
       "573  Yoishirrala98   17          572      145   4.58\n",
       "574     Zhisrisu83   10          195       85   7.89\n",
       "575      Zontibe81   21         1019      247   8.03\n",
       "\n",
       "[576 rows x 5 columns]"
      ]
     },
     "execution_count": 192,
     "metadata": {},
     "output_type": "execute_result"
    }
   ],
   "source": [
    "# Creates a DF from the groupby object after grouping the original data by SN. Will use DF created to bin each user by age.\n",
    "users_by_age = df.groupby([\"SN\",\"Age\"],as_index=False).sum()\n",
    "users_by_age"
   ]
  },
  {
   "cell_type": "code",
   "execution_count": 197,
   "id": "e1f7b384-e511-4e02-b606-916635ed1ffc",
   "metadata": {},
   "outputs": [
    {
     "data": {
      "text/plain": [
       "Age\n",
       "(0, 10]      24\n",
       "(10, 15]     41\n",
       "(15, 20]    150\n",
       "(20, 25]    232\n",
       "(25, 30]     59\n",
       "(30, 35]     37\n",
       "(35, 40]     26\n",
       "(40, 45]      7\n",
       "Name: SN, dtype: int64"
      ]
     },
     "execution_count": 197,
     "metadata": {},
     "output_type": "execute_result"
    }
   ],
   "source": [
    "# Takes DF created above and bins it by age so that each user is only counted once\n",
    "binned_age_df = users_by_age.groupby(pd.cut(users_by_age[\"Age\"], bins))\n",
    "players_by_age = binned_age_df[\"SN\"].count()\n",
    "players_by_age"
   ]
  },
  {
   "cell_type": "code",
   "execution_count": 211,
   "id": "88ee1590-90fc-4aed-bed3-12431e03c028",
   "metadata": {},
   "outputs": [
    {
     "data": {
      "text/plain": [
       "Age\n",
       "(0, 10]      4.17\n",
       "(10, 15]     7.12\n",
       "(15, 20]    26.04\n",
       "(20, 25]    40.28\n",
       "(25, 30]    10.24\n",
       "(30, 35]     6.42\n",
       "(35, 40]     4.51\n",
       "(40, 45]     1.22\n",
       "Name: SN, dtype: float64"
      ]
     },
     "execution_count": 211,
     "metadata": {},
     "output_type": "execute_result"
    }
   ],
   "source": [
    "percent_players_by_age = round((binned_age_df[\"SN\"].count() / users_by_age[\"SN\"].count()) * 100, 2)\n",
    "percent_players_by_age"
   ]
  },
  {
   "cell_type": "code",
   "execution_count": 194,
   "id": "03906d38-ed22-40f7-a295-8e86de0fb177",
   "metadata": {},
   "outputs": [
    {
     "data": {
      "text/plain": [
       "Age\n",
       "(0, 10]     4.540000\n",
       "(10, 15]    3.819512\n",
       "(15, 20]    4.143733\n",
       "(20, 25]    4.231207\n",
       "(25, 30]    3.752881\n",
       "(30, 35]    4.208378\n",
       "(35, 40]    4.321154\n",
       "(40, 45]    3.075714\n",
       "Name: Price, dtype: float64"
      ]
     },
     "execution_count": 194,
     "metadata": {},
     "output_type": "execute_result"
    }
   ],
   "source": [
    "binned_age_df[\"Price\"].mean()"
   ]
  },
  {
   "cell_type": "code",
   "execution_count": 237,
   "id": "cc300978-7f13-4cc8-ab68-c34da52f329d",
   "metadata": {},
   "outputs": [
    {
     "data": {
      "text/html": [
       "<div>\n",
       "<style scoped>\n",
       "    .dataframe tbody tr th:only-of-type {\n",
       "        vertical-align: middle;\n",
       "    }\n",
       "\n",
       "    .dataframe tbody tr th {\n",
       "        vertical-align: top;\n",
       "    }\n",
       "\n",
       "    .dataframe thead th {\n",
       "        text-align: right;\n",
       "    }\n",
       "</style>\n",
       "<table border=\"1\" class=\"dataframe\">\n",
       "  <thead>\n",
       "    <tr style=\"text-align: right;\">\n",
       "      <th></th>\n",
       "      <th>SN</th>\n",
       "      <th>Age</th>\n",
       "      <th>Price</th>\n",
       "    </tr>\n",
       "  </thead>\n",
       "  <tbody>\n",
       "    <tr>\n",
       "      <th>0</th>\n",
       "      <td>Lisosia93</td>\n",
       "      <td>25</td>\n",
       "      <td>18.96</td>\n",
       "    </tr>\n",
       "    <tr>\n",
       "      <th>1</th>\n",
       "      <td>Idastidru52</td>\n",
       "      <td>24</td>\n",
       "      <td>15.45</td>\n",
       "    </tr>\n",
       "    <tr>\n",
       "      <th>2</th>\n",
       "      <td>Chamjask73</td>\n",
       "      <td>22</td>\n",
       "      <td>13.83</td>\n",
       "    </tr>\n",
       "    <tr>\n",
       "      <th>3</th>\n",
       "      <td>Iral74</td>\n",
       "      <td>21</td>\n",
       "      <td>13.62</td>\n",
       "    </tr>\n",
       "    <tr>\n",
       "      <th>4</th>\n",
       "      <td>Iskadarya95</td>\n",
       "      <td>20</td>\n",
       "      <td>13.10</td>\n",
       "    </tr>\n",
       "  </tbody>\n",
       "</table>\n",
       "</div>"
      ],
      "text/plain": [
       "            SN  Age  Price\n",
       "0    Lisosia93   25  18.96\n",
       "1  Idastidru52   24  15.45\n",
       "2   Chamjask73   22  13.83\n",
       "3       Iral74   21  13.62\n",
       "4  Iskadarya95   20  13.10"
      ]
     },
     "execution_count": 237,
     "metadata": {},
     "output_type": "execute_result"
    }
   ],
   "source": [
    "# Top Spenders Analysis\n",
    "top_spenders = users_by_age.nlargest(n=5, columns=[\"Price\"]).reset_index()\n",
    "top_spenders = top_spenders[[\"SN\",\"Age\",\"Price\"]]\n",
    "top_spenders"
   ]
  },
  {
   "cell_type": "code",
   "execution_count": null,
   "id": "1467d9dd-d227-4a35-89a4-02b0718343a2",
   "metadata": {},
   "outputs": [],
   "source": []
  }
 ],
 "metadata": {
  "kernelspec": {
   "display_name": "Python 3 (ipykernel)",
   "language": "python",
   "name": "python3"
  },
  "language_info": {
   "codemirror_mode": {
    "name": "ipython",
    "version": 3
   },
   "file_extension": ".py",
   "mimetype": "text/x-python",
   "name": "python",
   "nbconvert_exporter": "python",
   "pygments_lexer": "ipython3",
   "version": "3.8.5"
  }
 },
 "nbformat": 4,
 "nbformat_minor": 5
}
